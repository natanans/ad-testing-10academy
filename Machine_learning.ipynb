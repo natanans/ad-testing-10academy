{
  "nbformat": 4,
  "nbformat_minor": 0,
  "metadata": {
    "kernelspec": {
      "display_name": "Python 3",
      "language": "python",
      "name": "python3"
    },
    "language_info": {
      "codemirror_mode": {
        "name": "ipython",
        "version": 3
      },
      "file_extension": ".py",
      "mimetype": "text/x-python",
      "name": "python",
      "nbconvert_exporter": "python",
      "pygments_lexer": "ipython3",
      "version": "3.7.6"
    },
    "colab": {
      "name": "Copy of Untitled1.ipynb",
      "provenance": [],
      "collapsed_sections": []
    }
  },
  "cells": [
    {
      "cell_type": "markdown",
      "metadata": {
        "id": "uq5oeQ_kn-BU",
        "colab_type": "text"
      },
      "source": [
        "# Task 2.2: Machine Learning"
      ]
    },
    {
      "cell_type": "markdown",
      "metadata": {
        "id": "ZnaVm9KZpHas",
        "colab_type": "text"
      },
      "source": [
        "In this task a machine learining model which will simulate an A/B test will be created.After we get this model it will be put to the test and will be checked for its accuracy."
      ]
    },
    {
      "cell_type": "markdown",
      "metadata": {
        "id": "My5GMt6koKgL",
        "colab_type": "text"
      },
      "source": [
        "Import much needed **libraries**."
      ]
    },
    {
      "cell_type": "code",
      "metadata": {
        "id": "GJYZ3HvoOsGw",
        "colab_type": "code",
        "colab": {}
      },
      "source": [
        "import os\n",
        "import pandas as pd\n",
        "import seaborn as sns\n",
        "from scipy.stats import norm\n",
        "import math as mt\n",
        "import numpy as np\n",
        "import matplotlib.pyplot as plt\n",
        "from scipy.stats import binom\n",
        "from sklearn.model_selection import train_test_split\n",
        "import seaborn as sns\n",
        "import pandas as pd\n",
        "import numpy as np\n",
        "from sklearn.preprocessing import LabelEncoder\n",
        "from sklearn.model_selection import train_test_split\n",
        "from sklearn import model_selection\n",
        "from sklearn.linear_model import LogisticRegression\n",
        "sns.set()\n",
        "import warnings\n",
        "warnings.filterwarnings('ignore')\n",
        "from sklearn.model_selection import train_test_split\n",
        "from sklearn.preprocessing import LabelEncoder\n",
        "from sklearn.model_selection import train_test_split\n",
        "from sklearn import model_selection\n",
        "from sklearn.linear_model import LogisticRegression\n"
      ],
      "execution_count": 74,
      "outputs": []
    },
    {
      "cell_type": "code",
      "metadata": {
        "id": "PyVlkudjrKZa",
        "colab_type": "code",
        "colab": {}
      },
      "source": [
        "sns.set()\n",
        "import warnings\n",
        "warnings.filterwarnings('ignore')\n",
        "path='C:/Users/chuna/Downloads/week4/AdSmartABdata.csv'\n",
        "from pydrive.auth import GoogleAuth\n",
        "from pydrive.drive import GoogleDrive\n",
        "from google.colab import auth\n",
        "from oauth2client.client import GoogleCredentials\n"
      ],
      "execution_count": 13,
      "outputs": []
    },
    {
      "cell_type": "markdown",
      "metadata": {
        "id": "cZUjmQN6oSau",
        "colab_type": "text"
      },
      "source": [
        "Define a function that plots **Tested** data points vs **Pridicted** ones."
      ]
    },
    {
      "cell_type": "code",
      "metadata": {
        "id": "w1hl6ok6OsGz",
        "colab_type": "code",
        "colab": {}
      },
      "source": [
        "import matplotlib.pyplot as plt\n",
        "plt.style.use('ggplot')\n",
        "%matplotlib inline\n",
        "\n",
        "def plot_preds(y_test, y_preds, model_name):\n",
        "    N = len(y_test)\n",
        "    plt.figure(figsize=(20,15))\n",
        "    original = plt.scatter(np.arange(1, N+1), y_test, c='blue')\n",
        "    prediction = plt.scatter(np.arange(1, N+1), y_preds, c='red')\n",
        "    plt.xticks(np.arange(1, N+1))\n",
        "    plt.xlabel('# Oberservation')\n",
        "    plt.ylabel('Enrollments')\n",
        "    title = 'True labels vs. Predicted Labels ({})'.format(model_name)\n",
        "    plt.title(title)\n",
        "    plt.legend((original, prediction), ('Original', 'Prediction'))\n",
        "    plt.show()"
      ],
      "execution_count": 43,
      "outputs": []
    },
    {
      "cell_type": "markdown",
      "metadata": {
        "id": "BJAoIP1_r3wP",
        "colab_type": "text"
      },
      "source": [
        "Define a function that calculates the **metrics** of accuracy."
      ]
    },
    {
      "cell_type": "code",
      "metadata": {
        "id": "dHcMQ_v8OsG1",
        "colab_type": "code",
        "colab": {}
      },
      "source": [
        "from sklearn.metrics import mean_squared_error, r2_score, mean_absolute_error\n",
        "\n",
        "def calculate_metrics(y_test, y_preds):\n",
        "    rmse = np.sqrt(mean_squared_error(y_test, y_preds))\n",
        "    r_sq = r2_score(y_test, y_preds)\n",
        "    mae = mean_absolute_error(y_test, y_preds)\n",
        "\n",
        "    print('RMSE Score: {}'.format(rmse))\n",
        "    print('R2_Squared: {}'.format(r_sq))\n",
        "    print('MAE Score: {}'.format(mae))"
      ],
      "execution_count": 44,
      "outputs": []
    },
    {
      "cell_type": "markdown",
      "metadata": {
        "id": "GvCXGob8jrgL",
        "colab_type": "text"
      },
      "source": [
        "**Import** data as csv"
      ]
    },
    {
      "cell_type": "code",
      "metadata": {
        "id": "1UB0ib2NmYQR",
        "colab_type": "code",
        "colab": {}
      },
      "source": [
        "auth.authenticate_user()\n",
        "gauth = GoogleAuth()\n",
        "gauth.credentials = GoogleCredentials.get_application_default()\n",
        "drive = GoogleDrive(gauth)\n",
        "downloaded = drive.CreateFile({'id':\"1YSn01vvlHKQaAIBtwIXRNd-oTaTuDN09\"}) \n",
        "downloaded.GetContentFile('ABAdRecall.csv')\n",
        "import pandas as pd\n",
        "data=pd.read_csv('ABAdRecall.csv')\n",
        "data.head()\n",
        "df=data"
      ],
      "execution_count": 45,
      "outputs": []
    },
    {
      "cell_type": "code",
      "metadata": {
        "id": "Ogasvn_ZOsG6",
        "colab_type": "code",
        "colab": {
          "base_uri": "https://localhost:8080/",
          "height": 142
        },
        "outputId": "b2311712-9975-43b8-fd22-b4584b88dc94"
      },
      "source": [
        "df_grouped = df.groupby('experiment').agg(yes=('yes', 'sum'),no=('no','sum'))\n",
        "\n",
        "df_grouped['total']=df_grouped['yes']+df_grouped['no']#################remove33333333333333333333333333333333333333333333333333333333333333333333333333333333333333333333333\n",
        "df_grouped"
      ],
      "execution_count": 19,
      "outputs": [
        {
          "output_type": "execute_result",
          "data": {
            "text/html": [
              "<div>\n",
              "<style scoped>\n",
              "    .dataframe tbody tr th:only-of-type {\n",
              "        vertical-align: middle;\n",
              "    }\n",
              "\n",
              "    .dataframe tbody tr th {\n",
              "        vertical-align: top;\n",
              "    }\n",
              "\n",
              "    .dataframe thead th {\n",
              "        text-align: right;\n",
              "    }\n",
              "</style>\n",
              "<table border=\"1\" class=\"dataframe\">\n",
              "  <thead>\n",
              "    <tr style=\"text-align: right;\">\n",
              "      <th></th>\n",
              "      <th>yes</th>\n",
              "      <th>no</th>\n",
              "      <th>total</th>\n",
              "    </tr>\n",
              "    <tr>\n",
              "      <th>experiment</th>\n",
              "      <th></th>\n",
              "      <th></th>\n",
              "      <th></th>\n",
              "    </tr>\n",
              "  </thead>\n",
              "  <tbody>\n",
              "    <tr>\n",
              "      <th>control</th>\n",
              "      <td>264</td>\n",
              "      <td>322</td>\n",
              "      <td>586</td>\n",
              "    </tr>\n",
              "    <tr>\n",
              "      <th>exposed</th>\n",
              "      <td>308</td>\n",
              "      <td>349</td>\n",
              "      <td>657</td>\n",
              "    </tr>\n",
              "  </tbody>\n",
              "</table>\n",
              "</div>"
            ],
            "text/plain": [
              "            yes   no  total\n",
              "experiment                 \n",
              "control     264  322    586\n",
              "exposed     308  349    657"
            ]
          },
          "metadata": {
            "tags": []
          },
          "execution_count": 19
        }
      ]
    },
    {
      "cell_type": "code",
      "metadata": {
        "id": "22cgAQsJOsG8",
        "colab_type": "code",
        "colab": {
          "base_uri": "https://localhost:8080/",
          "height": 419
        },
        "outputId": "31b74f52-6c7f-43d2-deaf-7a50f6d68c3b"
      },
      "source": [
        "df_control=df.loc[df['experiment'] == 'control']\n",
        "df_exposed=df.loc[df['experiment'] == 'exposed']\n",
        "df_control"
      ],
      "execution_count": 46,
      "outputs": [
        {
          "output_type": "execute_result",
          "data": {
            "text/html": [
              "<div>\n",
              "<style scoped>\n",
              "    .dataframe tbody tr th:only-of-type {\n",
              "        vertical-align: middle;\n",
              "    }\n",
              "\n",
              "    .dataframe tbody tr th {\n",
              "        vertical-align: top;\n",
              "    }\n",
              "\n",
              "    .dataframe thead th {\n",
              "        text-align: right;\n",
              "    }\n",
              "</style>\n",
              "<table border=\"1\" class=\"dataframe\">\n",
              "  <thead>\n",
              "    <tr style=\"text-align: right;\">\n",
              "      <th></th>\n",
              "      <th>auction_id</th>\n",
              "      <th>experiment</th>\n",
              "      <th>date</th>\n",
              "      <th>hour</th>\n",
              "      <th>device_make</th>\n",
              "      <th>platform_os</th>\n",
              "      <th>browser</th>\n",
              "      <th>yes</th>\n",
              "      <th>no</th>\n",
              "    </tr>\n",
              "  </thead>\n",
              "  <tbody>\n",
              "    <tr>\n",
              "      <th>3</th>\n",
              "      <td>00187412-2932-4542-a8ef-3633901c98d9</td>\n",
              "      <td>control</td>\n",
              "      <td>2020-07-03</td>\n",
              "      <td>15</td>\n",
              "      <td>Samsung SM-A705FN</td>\n",
              "      <td>6</td>\n",
              "      <td>Facebook</td>\n",
              "      <td>0</td>\n",
              "      <td>0</td>\n",
              "    </tr>\n",
              "    <tr>\n",
              "      <th>4</th>\n",
              "      <td>001a7785-d3fe-4e11-a344-c8735acacc2c</td>\n",
              "      <td>control</td>\n",
              "      <td>2020-07-03</td>\n",
              "      <td>15</td>\n",
              "      <td>Generic Smartphone</td>\n",
              "      <td>6</td>\n",
              "      <td>Chrome Mobile</td>\n",
              "      <td>0</td>\n",
              "      <td>0</td>\n",
              "    </tr>\n",
              "    <tr>\n",
              "      <th>5</th>\n",
              "      <td>0027ce48-d3c6-4935-bb12-dfb5d5627857</td>\n",
              "      <td>control</td>\n",
              "      <td>2020-07-03</td>\n",
              "      <td>15</td>\n",
              "      <td>Samsung SM-G960F</td>\n",
              "      <td>6</td>\n",
              "      <td>Facebook</td>\n",
              "      <td>0</td>\n",
              "      <td>0</td>\n",
              "    </tr>\n",
              "    <tr>\n",
              "      <th>6</th>\n",
              "      <td>002e308b-1a07-49d6-8560-0fbcdcd71e4b</td>\n",
              "      <td>control</td>\n",
              "      <td>2020-07-03</td>\n",
              "      <td>15</td>\n",
              "      <td>Generic Smartphone</td>\n",
              "      <td>6</td>\n",
              "      <td>Chrome Mobile</td>\n",
              "      <td>0</td>\n",
              "      <td>0</td>\n",
              "    </tr>\n",
              "    <tr>\n",
              "      <th>7</th>\n",
              "      <td>00393fb9-ca32-40c0-bfcb-1bd83f319820</td>\n",
              "      <td>control</td>\n",
              "      <td>2020-07-09</td>\n",
              "      <td>5</td>\n",
              "      <td>Samsung SM-G973F</td>\n",
              "      <td>6</td>\n",
              "      <td>Facebook</td>\n",
              "      <td>0</td>\n",
              "      <td>0</td>\n",
              "    </tr>\n",
              "    <tr>\n",
              "      <th>...</th>\n",
              "      <td>...</td>\n",
              "      <td>...</td>\n",
              "      <td>...</td>\n",
              "      <td>...</td>\n",
              "      <td>...</td>\n",
              "      <td>...</td>\n",
              "      <td>...</td>\n",
              "      <td>...</td>\n",
              "      <td>...</td>\n",
              "    </tr>\n",
              "    <tr>\n",
              "      <th>8069</th>\n",
              "      <td>ffca1153-c182-4f32-9e90-2a6008417497</td>\n",
              "      <td>control</td>\n",
              "      <td>2020-07-10</td>\n",
              "      <td>16</td>\n",
              "      <td>Generic Smartphone</td>\n",
              "      <td>6</td>\n",
              "      <td>Chrome Mobile</td>\n",
              "      <td>0</td>\n",
              "      <td>1</td>\n",
              "    </tr>\n",
              "    <tr>\n",
              "      <th>8070</th>\n",
              "      <td>ffcea781-a6e7-4f98-9d90-f95377270476</td>\n",
              "      <td>control</td>\n",
              "      <td>2020-07-03</td>\n",
              "      <td>15</td>\n",
              "      <td>Samsung SM-N976B</td>\n",
              "      <td>6</td>\n",
              "      <td>Facebook</td>\n",
              "      <td>0</td>\n",
              "      <td>0</td>\n",
              "    </tr>\n",
              "    <tr>\n",
              "      <th>8073</th>\n",
              "      <td>ffea3210-2c3e-426f-a77d-0aa72e73b20f</td>\n",
              "      <td>control</td>\n",
              "      <td>2020-07-03</td>\n",
              "      <td>15</td>\n",
              "      <td>Generic Smartphone</td>\n",
              "      <td>6</td>\n",
              "      <td>Chrome Mobile</td>\n",
              "      <td>0</td>\n",
              "      <td>0</td>\n",
              "    </tr>\n",
              "    <tr>\n",
              "      <th>8074</th>\n",
              "      <td>ffeaa0f1-1d72-4ba9-afb4-314b3b00a7c7</td>\n",
              "      <td>control</td>\n",
              "      <td>2020-07-04</td>\n",
              "      <td>9</td>\n",
              "      <td>Generic Smartphone</td>\n",
              "      <td>6</td>\n",
              "      <td>Chrome Mobile</td>\n",
              "      <td>0</td>\n",
              "      <td>0</td>\n",
              "    </tr>\n",
              "    <tr>\n",
              "      <th>8076</th>\n",
              "      <td>fffbb9ff-568a-41a5-a0c3-6866592f80d8</td>\n",
              "      <td>control</td>\n",
              "      <td>2020-07-10</td>\n",
              "      <td>14</td>\n",
              "      <td>Samsung SM-G960F</td>\n",
              "      <td>6</td>\n",
              "      <td>Facebook</td>\n",
              "      <td>0</td>\n",
              "      <td>0</td>\n",
              "    </tr>\n",
              "  </tbody>\n",
              "</table>\n",
              "<p>4071 rows × 9 columns</p>\n",
              "</div>"
            ],
            "text/plain": [
              "                                auction_id experiment  ... yes  no\n",
              "3     00187412-2932-4542-a8ef-3633901c98d9    control  ...   0   0\n",
              "4     001a7785-d3fe-4e11-a344-c8735acacc2c    control  ...   0   0\n",
              "5     0027ce48-d3c6-4935-bb12-dfb5d5627857    control  ...   0   0\n",
              "6     002e308b-1a07-49d6-8560-0fbcdcd71e4b    control  ...   0   0\n",
              "7     00393fb9-ca32-40c0-bfcb-1bd83f319820    control  ...   0   0\n",
              "...                                    ...        ...  ...  ..  ..\n",
              "8069  ffca1153-c182-4f32-9e90-2a6008417497    control  ...   0   1\n",
              "8070  ffcea781-a6e7-4f98-9d90-f95377270476    control  ...   0   0\n",
              "8073  ffea3210-2c3e-426f-a77d-0aa72e73b20f    control  ...   0   0\n",
              "8074  ffeaa0f1-1d72-4ba9-afb4-314b3b00a7c7    control  ...   0   0\n",
              "8076  fffbb9ff-568a-41a5-a0c3-6866592f80d8    control  ...   0   0\n",
              "\n",
              "[4071 rows x 9 columns]"
            ]
          },
          "metadata": {
            "tags": []
          },
          "execution_count": 46
        }
      ]
    },
    {
      "cell_type": "code",
      "metadata": {
        "id": "hjlioaM_OsG-",
        "colab_type": "code",
        "colab": {
          "base_uri": "https://localhost:8080/",
          "height": 419
        },
        "outputId": "50a89eb1-4058-4017-a5d9-f0e1e7cdd568"
      },
      "source": [
        "df_exposed_clean=df_exposed.drop(df_exposed[(df_exposed.yes == 0) & (df_exposed.no == 0)].index)\n",
        "df_control_clean=df_control.drop(df_control[(df_control.yes == 0) & (df_control.no == 0)].index)\n",
        "df_exposed_clean\n"
      ],
      "execution_count": 64,
      "outputs": [
        {
          "output_type": "execute_result",
          "data": {
            "text/html": [
              "<div>\n",
              "<style scoped>\n",
              "    .dataframe tbody tr th:only-of-type {\n",
              "        vertical-align: middle;\n",
              "    }\n",
              "\n",
              "    .dataframe tbody tr th {\n",
              "        vertical-align: top;\n",
              "    }\n",
              "\n",
              "    .dataframe thead th {\n",
              "        text-align: right;\n",
              "    }\n",
              "</style>\n",
              "<table border=\"1\" class=\"dataframe\">\n",
              "  <thead>\n",
              "    <tr style=\"text-align: right;\">\n",
              "      <th></th>\n",
              "      <th>auction_id</th>\n",
              "      <th>experiment</th>\n",
              "      <th>date</th>\n",
              "      <th>hour</th>\n",
              "      <th>device_make</th>\n",
              "      <th>platform_os</th>\n",
              "      <th>browser</th>\n",
              "      <th>yes</th>\n",
              "      <th>no</th>\n",
              "    </tr>\n",
              "  </thead>\n",
              "  <tbody>\n",
              "    <tr>\n",
              "      <th>2</th>\n",
              "      <td>0016d14a-ae18-4a02-a204-6ba53b52f2ed</td>\n",
              "      <td>exposed</td>\n",
              "      <td>2020-07-05</td>\n",
              "      <td>2</td>\n",
              "      <td>E5823</td>\n",
              "      <td>6</td>\n",
              "      <td>Chrome Mobile WebView</td>\n",
              "      <td>0</td>\n",
              "      <td>1</td>\n",
              "    </tr>\n",
              "    <tr>\n",
              "      <th>16</th>\n",
              "      <td>008aafdf-deef-4482-8fec-d98e3da054da</td>\n",
              "      <td>exposed</td>\n",
              "      <td>2020-07-04</td>\n",
              "      <td>16</td>\n",
              "      <td>Generic Smartphone</td>\n",
              "      <td>6</td>\n",
              "      <td>Chrome Mobile</td>\n",
              "      <td>1</td>\n",
              "      <td>0</td>\n",
              "    </tr>\n",
              "    <tr>\n",
              "      <th>20</th>\n",
              "      <td>00a1384a-5118-4d1b-925b-6cdada50318d</td>\n",
              "      <td>exposed</td>\n",
              "      <td>2020-07-06</td>\n",
              "      <td>8</td>\n",
              "      <td>Generic Smartphone</td>\n",
              "      <td>6</td>\n",
              "      <td>Chrome Mobile</td>\n",
              "      <td>0</td>\n",
              "      <td>1</td>\n",
              "    </tr>\n",
              "    <tr>\n",
              "      <th>39</th>\n",
              "      <td>013e45cf-e388-46a4-9c5b-a34303613940</td>\n",
              "      <td>exposed</td>\n",
              "      <td>2020-07-10</td>\n",
              "      <td>2</td>\n",
              "      <td>Generic Smartphone</td>\n",
              "      <td>6</td>\n",
              "      <td>Chrome Mobile</td>\n",
              "      <td>0</td>\n",
              "      <td>1</td>\n",
              "    </tr>\n",
              "    <tr>\n",
              "      <th>46</th>\n",
              "      <td>01905bae-fc59-475e-b2b4-09b78163c961</td>\n",
              "      <td>exposed</td>\n",
              "      <td>2020-07-05</td>\n",
              "      <td>6</td>\n",
              "      <td>I3312</td>\n",
              "      <td>6</td>\n",
              "      <td>Chrome Mobile WebView</td>\n",
              "      <td>0</td>\n",
              "      <td>1</td>\n",
              "    </tr>\n",
              "    <tr>\n",
              "      <th>...</th>\n",
              "      <td>...</td>\n",
              "      <td>...</td>\n",
              "      <td>...</td>\n",
              "      <td>...</td>\n",
              "      <td>...</td>\n",
              "      <td>...</td>\n",
              "      <td>...</td>\n",
              "      <td>...</td>\n",
              "      <td>...</td>\n",
              "    </tr>\n",
              "    <tr>\n",
              "      <th>8054</th>\n",
              "      <td>ff82e341-b72c-4531-b87e-1e11dc35d3fc</td>\n",
              "      <td>exposed</td>\n",
              "      <td>2020-07-10</td>\n",
              "      <td>8</td>\n",
              "      <td>Samsung SM-G973F</td>\n",
              "      <td>6</td>\n",
              "      <td>Samsung Internet</td>\n",
              "      <td>1</td>\n",
              "      <td>0</td>\n",
              "    </tr>\n",
              "    <tr>\n",
              "      <th>8058</th>\n",
              "      <td>ff95df43-63b4-48c8-8497-781ba7952eec</td>\n",
              "      <td>exposed</td>\n",
              "      <td>2020-07-09</td>\n",
              "      <td>18</td>\n",
              "      <td>Generic Smartphone</td>\n",
              "      <td>6</td>\n",
              "      <td>Chrome Mobile</td>\n",
              "      <td>0</td>\n",
              "      <td>1</td>\n",
              "    </tr>\n",
              "    <tr>\n",
              "      <th>8059</th>\n",
              "      <td>ffa08ff9-a132-4051-aef5-01a9c79367bc</td>\n",
              "      <td>exposed</td>\n",
              "      <td>2020-07-05</td>\n",
              "      <td>21</td>\n",
              "      <td>Generic Smartphone</td>\n",
              "      <td>6</td>\n",
              "      <td>Chrome Mobile</td>\n",
              "      <td>1</td>\n",
              "      <td>0</td>\n",
              "    </tr>\n",
              "    <tr>\n",
              "      <th>8063</th>\n",
              "      <td>ffb176df-ecd2-45d3-b05f-05b173a093a7</td>\n",
              "      <td>exposed</td>\n",
              "      <td>2020-07-04</td>\n",
              "      <td>1</td>\n",
              "      <td>Generic Smartphone</td>\n",
              "      <td>6</td>\n",
              "      <td>Chrome Mobile</td>\n",
              "      <td>1</td>\n",
              "      <td>0</td>\n",
              "    </tr>\n",
              "    <tr>\n",
              "      <th>8071</th>\n",
              "      <td>ffdfdc09-48c7-4bfb-80f8-ec1eb633602b</td>\n",
              "      <td>exposed</td>\n",
              "      <td>2020-07-03</td>\n",
              "      <td>4</td>\n",
              "      <td>Generic Smartphone</td>\n",
              "      <td>6</td>\n",
              "      <td>Chrome Mobile</td>\n",
              "      <td>0</td>\n",
              "      <td>1</td>\n",
              "    </tr>\n",
              "  </tbody>\n",
              "</table>\n",
              "<p>657 rows × 9 columns</p>\n",
              "</div>"
            ],
            "text/plain": [
              "                                auction_id experiment  ... yes  no\n",
              "2     0016d14a-ae18-4a02-a204-6ba53b52f2ed    exposed  ...   0   1\n",
              "16    008aafdf-deef-4482-8fec-d98e3da054da    exposed  ...   1   0\n",
              "20    00a1384a-5118-4d1b-925b-6cdada50318d    exposed  ...   0   1\n",
              "39    013e45cf-e388-46a4-9c5b-a34303613940    exposed  ...   0   1\n",
              "46    01905bae-fc59-475e-b2b4-09b78163c961    exposed  ...   0   1\n",
              "...                                    ...        ...  ...  ..  ..\n",
              "8054  ff82e341-b72c-4531-b87e-1e11dc35d3fc    exposed  ...   1   0\n",
              "8058  ff95df43-63b4-48c8-8497-781ba7952eec    exposed  ...   0   1\n",
              "8059  ffa08ff9-a132-4051-aef5-01a9c79367bc    exposed  ...   1   0\n",
              "8063  ffb176df-ecd2-45d3-b05f-05b173a093a7    exposed  ...   1   0\n",
              "8071  ffdfdc09-48c7-4bfb-80f8-ec1eb633602b    exposed  ...   0   1\n",
              "\n",
              "[657 rows x 9 columns]"
            ]
          },
          "metadata": {
            "tags": []
          },
          "execution_count": 64
        }
      ]
    },
    {
      "cell_type": "markdown",
      "metadata": {
        "id": "kw65PhhKsdPn",
        "colab_type": "text"
      },
      "source": [
        "Check for any **NaN** values"
      ]
    },
    {
      "cell_type": "code",
      "metadata": {
        "id": "XmdegOydOsHB",
        "colab_type": "code",
        "colab": {
          "base_uri": "https://localhost:8080/",
          "height": 34
        },
        "outputId": "83d91de9-f97b-4723-ac81-80a96b8c9ce8"
      },
      "source": [
        "df_control_clean.isnull().values.any()"
      ],
      "execution_count": 65,
      "outputs": [
        {
          "output_type": "execute_result",
          "data": {
            "text/plain": [
              "False"
            ]
          },
          "metadata": {
            "tags": []
          },
          "execution_count": 65
        }
      ]
    },
    {
      "cell_type": "code",
      "metadata": {
        "id": "u8-eUZ0cOsHD",
        "colab_type": "code",
        "colab": {},
        "outputId": "dba1eec5-3eae-4737-aebe-8cf511dece99"
      },
      "source": [
        "df_control_clean.isna().sum()"
      ],
      "execution_count": null,
      "outputs": [
        {
          "output_type": "execute_result",
          "data": {
            "text/plain": [
              "auction_id     0\n",
              "experiment     0\n",
              "date           0\n",
              "hour           0\n",
              "device_make    0\n",
              "platform_os    0\n",
              "browser        0\n",
              "yes            0\n",
              "no             0\n",
              "dtype: int64"
            ]
          },
          "metadata": {
            "tags": []
          },
          "execution_count": 9
        }
      ]
    },
    {
      "cell_type": "code",
      "metadata": {
        "id": "K0lB97t5OsHF",
        "colab_type": "code",
        "colab": {
          "base_uri": "https://localhost:8080/",
          "height": 187
        },
        "outputId": "dc1e9561-e012-439a-8050-ce4c795c28aa"
      },
      "source": [
        "df_exposed_clean.isna().sum()"
      ],
      "execution_count": 49,
      "outputs": [
        {
          "output_type": "execute_result",
          "data": {
            "text/plain": [
              "auction_id     0\n",
              "experiment     0\n",
              "date           0\n",
              "hour           0\n",
              "device_make    0\n",
              "platform_os    0\n",
              "browser        0\n",
              "yes            0\n",
              "no             0\n",
              "dtype: int64"
            ]
          },
          "metadata": {
            "tags": []
          },
          "execution_count": 49
        }
      ]
    },
    {
      "cell_type": "markdown",
      "metadata": {
        "id": "yR0UJgCWOsHH",
        "colab_type": "text"
      },
      "source": [
        "# Data Wrangling"
      ]
    },
    {
      "cell_type": "code",
      "metadata": {
        "id": "NWG-YCKVOsHH",
        "colab_type": "code",
        "colab": {
          "base_uri": "https://localhost:8080/",
          "height": 419
        },
        "outputId": "05235346-3b22-432f-a68d-bb239a9df776"
      },
      "source": [
        "data_total = pd.concat([df_exposed, df_control])\n",
        "data_total"
      ],
      "execution_count": 68,
      "outputs": [
        {
          "output_type": "execute_result",
          "data": {
            "text/html": [
              "<div>\n",
              "<style scoped>\n",
              "    .dataframe tbody tr th:only-of-type {\n",
              "        vertical-align: middle;\n",
              "    }\n",
              "\n",
              "    .dataframe tbody tr th {\n",
              "        vertical-align: top;\n",
              "    }\n",
              "\n",
              "    .dataframe thead th {\n",
              "        text-align: right;\n",
              "    }\n",
              "</style>\n",
              "<table border=\"1\" class=\"dataframe\">\n",
              "  <thead>\n",
              "    <tr style=\"text-align: right;\">\n",
              "      <th></th>\n",
              "      <th>auction_id</th>\n",
              "      <th>experiment</th>\n",
              "      <th>date</th>\n",
              "      <th>hour</th>\n",
              "      <th>device_make</th>\n",
              "      <th>platform_os</th>\n",
              "      <th>browser</th>\n",
              "      <th>yes</th>\n",
              "      <th>no</th>\n",
              "    </tr>\n",
              "  </thead>\n",
              "  <tbody>\n",
              "    <tr>\n",
              "      <th>0</th>\n",
              "      <td>0008ef63-77a7-448b-bd1e-075f42c55e39</td>\n",
              "      <td>exposed</td>\n",
              "      <td>2020-07-10</td>\n",
              "      <td>8</td>\n",
              "      <td>Generic Smartphone</td>\n",
              "      <td>6</td>\n",
              "      <td>Chrome Mobile</td>\n",
              "      <td>0</td>\n",
              "      <td>0</td>\n",
              "    </tr>\n",
              "    <tr>\n",
              "      <th>1</th>\n",
              "      <td>000eabc5-17ce-4137-8efe-44734d914446</td>\n",
              "      <td>exposed</td>\n",
              "      <td>2020-07-07</td>\n",
              "      <td>10</td>\n",
              "      <td>Generic Smartphone</td>\n",
              "      <td>6</td>\n",
              "      <td>Chrome Mobile</td>\n",
              "      <td>0</td>\n",
              "      <td>0</td>\n",
              "    </tr>\n",
              "    <tr>\n",
              "      <th>2</th>\n",
              "      <td>0016d14a-ae18-4a02-a204-6ba53b52f2ed</td>\n",
              "      <td>exposed</td>\n",
              "      <td>2020-07-05</td>\n",
              "      <td>2</td>\n",
              "      <td>E5823</td>\n",
              "      <td>6</td>\n",
              "      <td>Chrome Mobile WebView</td>\n",
              "      <td>0</td>\n",
              "      <td>1</td>\n",
              "    </tr>\n",
              "    <tr>\n",
              "      <th>8</th>\n",
              "      <td>004940f5-c642-417a-8fd2-c8e5d989f358</td>\n",
              "      <td>exposed</td>\n",
              "      <td>2020-07-04</td>\n",
              "      <td>0</td>\n",
              "      <td>Generic Smartphone</td>\n",
              "      <td>6</td>\n",
              "      <td>Chrome Mobile WebView</td>\n",
              "      <td>0</td>\n",
              "      <td>0</td>\n",
              "    </tr>\n",
              "    <tr>\n",
              "      <th>13</th>\n",
              "      <td>006b9c6e-5f5d-4385-a811-ff20a24b30ac</td>\n",
              "      <td>exposed</td>\n",
              "      <td>2020-07-06</td>\n",
              "      <td>8</td>\n",
              "      <td>Samsung SM-G973F</td>\n",
              "      <td>6</td>\n",
              "      <td>Chrome Mobile WebView</td>\n",
              "      <td>0</td>\n",
              "      <td>0</td>\n",
              "    </tr>\n",
              "    <tr>\n",
              "      <th>...</th>\n",
              "      <td>...</td>\n",
              "      <td>...</td>\n",
              "      <td>...</td>\n",
              "      <td>...</td>\n",
              "      <td>...</td>\n",
              "      <td>...</td>\n",
              "      <td>...</td>\n",
              "      <td>...</td>\n",
              "      <td>...</td>\n",
              "    </tr>\n",
              "    <tr>\n",
              "      <th>8069</th>\n",
              "      <td>ffca1153-c182-4f32-9e90-2a6008417497</td>\n",
              "      <td>control</td>\n",
              "      <td>2020-07-10</td>\n",
              "      <td>16</td>\n",
              "      <td>Generic Smartphone</td>\n",
              "      <td>6</td>\n",
              "      <td>Chrome Mobile</td>\n",
              "      <td>0</td>\n",
              "      <td>1</td>\n",
              "    </tr>\n",
              "    <tr>\n",
              "      <th>8070</th>\n",
              "      <td>ffcea781-a6e7-4f98-9d90-f95377270476</td>\n",
              "      <td>control</td>\n",
              "      <td>2020-07-03</td>\n",
              "      <td>15</td>\n",
              "      <td>Samsung SM-N976B</td>\n",
              "      <td>6</td>\n",
              "      <td>Facebook</td>\n",
              "      <td>0</td>\n",
              "      <td>0</td>\n",
              "    </tr>\n",
              "    <tr>\n",
              "      <th>8073</th>\n",
              "      <td>ffea3210-2c3e-426f-a77d-0aa72e73b20f</td>\n",
              "      <td>control</td>\n",
              "      <td>2020-07-03</td>\n",
              "      <td>15</td>\n",
              "      <td>Generic Smartphone</td>\n",
              "      <td>6</td>\n",
              "      <td>Chrome Mobile</td>\n",
              "      <td>0</td>\n",
              "      <td>0</td>\n",
              "    </tr>\n",
              "    <tr>\n",
              "      <th>8074</th>\n",
              "      <td>ffeaa0f1-1d72-4ba9-afb4-314b3b00a7c7</td>\n",
              "      <td>control</td>\n",
              "      <td>2020-07-04</td>\n",
              "      <td>9</td>\n",
              "      <td>Generic Smartphone</td>\n",
              "      <td>6</td>\n",
              "      <td>Chrome Mobile</td>\n",
              "      <td>0</td>\n",
              "      <td>0</td>\n",
              "    </tr>\n",
              "    <tr>\n",
              "      <th>8076</th>\n",
              "      <td>fffbb9ff-568a-41a5-a0c3-6866592f80d8</td>\n",
              "      <td>control</td>\n",
              "      <td>2020-07-10</td>\n",
              "      <td>14</td>\n",
              "      <td>Samsung SM-G960F</td>\n",
              "      <td>6</td>\n",
              "      <td>Facebook</td>\n",
              "      <td>0</td>\n",
              "      <td>0</td>\n",
              "    </tr>\n",
              "  </tbody>\n",
              "</table>\n",
              "<p>8077 rows × 9 columns</p>\n",
              "</div>"
            ],
            "text/plain": [
              "                                auction_id experiment  ... yes  no\n",
              "0     0008ef63-77a7-448b-bd1e-075f42c55e39    exposed  ...   0   0\n",
              "1     000eabc5-17ce-4137-8efe-44734d914446    exposed  ...   0   0\n",
              "2     0016d14a-ae18-4a02-a204-6ba53b52f2ed    exposed  ...   0   1\n",
              "8     004940f5-c642-417a-8fd2-c8e5d989f358    exposed  ...   0   0\n",
              "13    006b9c6e-5f5d-4385-a811-ff20a24b30ac    exposed  ...   0   0\n",
              "...                                    ...        ...  ...  ..  ..\n",
              "8069  ffca1153-c182-4f32-9e90-2a6008417497    control  ...   0   1\n",
              "8070  ffcea781-a6e7-4f98-9d90-f95377270476    control  ...   0   0\n",
              "8073  ffea3210-2c3e-426f-a77d-0aa72e73b20f    control  ...   0   0\n",
              "8074  ffeaa0f1-1d72-4ba9-afb4-314b3b00a7c7    control  ...   0   0\n",
              "8076  fffbb9ff-568a-41a5-a0c3-6866592f80d8    control  ...   0   0\n",
              "\n",
              "[8077 rows x 9 columns]"
            ]
          },
          "metadata": {
            "tags": []
          },
          "execution_count": 68
        }
      ]
    },
    {
      "cell_type": "code",
      "metadata": {
        "id": "IRLb-o-SOsHP",
        "colab_type": "code",
        "colab": {
          "base_uri": "https://localhost:8080/",
          "height": 419
        },
        "outputId": "185fb16c-c6b0-465e-8d66-eb2afd68dd25"
      },
      "source": [
        "data_total=data_total.drop(data_total[(data_total.yes == 0) & (data_total.no == 0)].index)\n",
        "data_total"
      ],
      "execution_count": 69,
      "outputs": [
        {
          "output_type": "execute_result",
          "data": {
            "text/html": [
              "<div>\n",
              "<style scoped>\n",
              "    .dataframe tbody tr th:only-of-type {\n",
              "        vertical-align: middle;\n",
              "    }\n",
              "\n",
              "    .dataframe tbody tr th {\n",
              "        vertical-align: top;\n",
              "    }\n",
              "\n",
              "    .dataframe thead th {\n",
              "        text-align: right;\n",
              "    }\n",
              "</style>\n",
              "<table border=\"1\" class=\"dataframe\">\n",
              "  <thead>\n",
              "    <tr style=\"text-align: right;\">\n",
              "      <th></th>\n",
              "      <th>auction_id</th>\n",
              "      <th>experiment</th>\n",
              "      <th>date</th>\n",
              "      <th>hour</th>\n",
              "      <th>device_make</th>\n",
              "      <th>platform_os</th>\n",
              "      <th>browser</th>\n",
              "      <th>yes</th>\n",
              "      <th>no</th>\n",
              "    </tr>\n",
              "  </thead>\n",
              "  <tbody>\n",
              "    <tr>\n",
              "      <th>2</th>\n",
              "      <td>0016d14a-ae18-4a02-a204-6ba53b52f2ed</td>\n",
              "      <td>exposed</td>\n",
              "      <td>2020-07-05</td>\n",
              "      <td>2</td>\n",
              "      <td>E5823</td>\n",
              "      <td>6</td>\n",
              "      <td>Chrome Mobile WebView</td>\n",
              "      <td>0</td>\n",
              "      <td>1</td>\n",
              "    </tr>\n",
              "    <tr>\n",
              "      <th>16</th>\n",
              "      <td>008aafdf-deef-4482-8fec-d98e3da054da</td>\n",
              "      <td>exposed</td>\n",
              "      <td>2020-07-04</td>\n",
              "      <td>16</td>\n",
              "      <td>Generic Smartphone</td>\n",
              "      <td>6</td>\n",
              "      <td>Chrome Mobile</td>\n",
              "      <td>1</td>\n",
              "      <td>0</td>\n",
              "    </tr>\n",
              "    <tr>\n",
              "      <th>20</th>\n",
              "      <td>00a1384a-5118-4d1b-925b-6cdada50318d</td>\n",
              "      <td>exposed</td>\n",
              "      <td>2020-07-06</td>\n",
              "      <td>8</td>\n",
              "      <td>Generic Smartphone</td>\n",
              "      <td>6</td>\n",
              "      <td>Chrome Mobile</td>\n",
              "      <td>0</td>\n",
              "      <td>1</td>\n",
              "    </tr>\n",
              "    <tr>\n",
              "      <th>39</th>\n",
              "      <td>013e45cf-e388-46a4-9c5b-a34303613940</td>\n",
              "      <td>exposed</td>\n",
              "      <td>2020-07-10</td>\n",
              "      <td>2</td>\n",
              "      <td>Generic Smartphone</td>\n",
              "      <td>6</td>\n",
              "      <td>Chrome Mobile</td>\n",
              "      <td>0</td>\n",
              "      <td>1</td>\n",
              "    </tr>\n",
              "    <tr>\n",
              "      <th>46</th>\n",
              "      <td>01905bae-fc59-475e-b2b4-09b78163c961</td>\n",
              "      <td>exposed</td>\n",
              "      <td>2020-07-05</td>\n",
              "      <td>6</td>\n",
              "      <td>I3312</td>\n",
              "      <td>6</td>\n",
              "      <td>Chrome Mobile WebView</td>\n",
              "      <td>0</td>\n",
              "      <td>1</td>\n",
              "    </tr>\n",
              "    <tr>\n",
              "      <th>...</th>\n",
              "      <td>...</td>\n",
              "      <td>...</td>\n",
              "      <td>...</td>\n",
              "      <td>...</td>\n",
              "      <td>...</td>\n",
              "      <td>...</td>\n",
              "      <td>...</td>\n",
              "      <td>...</td>\n",
              "      <td>...</td>\n",
              "    </tr>\n",
              "    <tr>\n",
              "      <th>8004</th>\n",
              "      <td>fd1b8ea5-5397-4fae-a7f6-3c11fa3cef70</td>\n",
              "      <td>control</td>\n",
              "      <td>2020-07-03</td>\n",
              "      <td>15</td>\n",
              "      <td>Samsung SM-G975F</td>\n",
              "      <td>6</td>\n",
              "      <td>Samsung Internet</td>\n",
              "      <td>1</td>\n",
              "      <td>0</td>\n",
              "    </tr>\n",
              "    <tr>\n",
              "      <th>8010</th>\n",
              "      <td>fd53005c-f3f1-4f7d-97cc-84fab926bcaa</td>\n",
              "      <td>control</td>\n",
              "      <td>2020-07-04</td>\n",
              "      <td>4</td>\n",
              "      <td>Generic Smartphone</td>\n",
              "      <td>6</td>\n",
              "      <td>Chrome Mobile</td>\n",
              "      <td>0</td>\n",
              "      <td>1</td>\n",
              "    </tr>\n",
              "    <tr>\n",
              "      <th>8031</th>\n",
              "      <td>fe42a3c3-3e1e-40c9-b029-6b0ee9702aaa</td>\n",
              "      <td>control</td>\n",
              "      <td>2020-07-10</td>\n",
              "      <td>1</td>\n",
              "      <td>Generic Smartphone</td>\n",
              "      <td>6</td>\n",
              "      <td>Chrome Mobile</td>\n",
              "      <td>1</td>\n",
              "      <td>0</td>\n",
              "    </tr>\n",
              "    <tr>\n",
              "      <th>8064</th>\n",
              "      <td>ffb79718-6f25-4896-b6b3-e58b80a6e147</td>\n",
              "      <td>control</td>\n",
              "      <td>2020-07-09</td>\n",
              "      <td>7</td>\n",
              "      <td>Generic Smartphone</td>\n",
              "      <td>6</td>\n",
              "      <td>Chrome Mobile</td>\n",
              "      <td>0</td>\n",
              "      <td>1</td>\n",
              "    </tr>\n",
              "    <tr>\n",
              "      <th>8069</th>\n",
              "      <td>ffca1153-c182-4f32-9e90-2a6008417497</td>\n",
              "      <td>control</td>\n",
              "      <td>2020-07-10</td>\n",
              "      <td>16</td>\n",
              "      <td>Generic Smartphone</td>\n",
              "      <td>6</td>\n",
              "      <td>Chrome Mobile</td>\n",
              "      <td>0</td>\n",
              "      <td>1</td>\n",
              "    </tr>\n",
              "  </tbody>\n",
              "</table>\n",
              "<p>1243 rows × 9 columns</p>\n",
              "</div>"
            ],
            "text/plain": [
              "                                auction_id experiment  ... yes  no\n",
              "2     0016d14a-ae18-4a02-a204-6ba53b52f2ed    exposed  ...   0   1\n",
              "16    008aafdf-deef-4482-8fec-d98e3da054da    exposed  ...   1   0\n",
              "20    00a1384a-5118-4d1b-925b-6cdada50318d    exposed  ...   0   1\n",
              "39    013e45cf-e388-46a4-9c5b-a34303613940    exposed  ...   0   1\n",
              "46    01905bae-fc59-475e-b2b4-09b78163c961    exposed  ...   0   1\n",
              "...                                    ...        ...  ...  ..  ..\n",
              "8004  fd1b8ea5-5397-4fae-a7f6-3c11fa3cef70    control  ...   1   0\n",
              "8010  fd53005c-f3f1-4f7d-97cc-84fab926bcaa    control  ...   0   1\n",
              "8031  fe42a3c3-3e1e-40c9-b029-6b0ee9702aaa    control  ...   1   0\n",
              "8064  ffb79718-6f25-4896-b6b3-e58b80a6e147    control  ...   0   1\n",
              "8069  ffca1153-c182-4f32-9e90-2a6008417497    control  ...   0   1\n",
              "\n",
              "[1243 rows x 9 columns]"
            ]
          },
          "metadata": {
            "tags": []
          },
          "execution_count": 69
        }
      ]
    },
    {
      "cell_type": "markdown",
      "metadata": {
        "id": "cBixbxG8wsma",
        "colab_type": "text"
      },
      "source": [
        "Add day as a column(**DOW**)."
      ]
    },
    {
      "cell_type": "code",
      "metadata": {
        "id": "senX7Q4MOsHJ",
        "colab_type": "code",
        "colab": {
          "base_uri": "https://localhost:8080/",
          "height": 359
        },
        "outputId": "f2d9a3f6-2fc1-4c2f-e5a7-77a89474ecc8"
      },
      "source": [
        "data_total[\"experiment\"].replace({\"exposed\": 1, \"control\": 0}, inplace=True)\n",
        "data_total['date'] = pd.to_datetime(data_total['date']) \n",
        "data_total['DOW'] = data_total['date'].dt.day_name() \n",
        "  \n",
        "\n",
        "\n",
        "data_total.sample(10)"
      ],
      "execution_count": 70,
      "outputs": [
        {
          "output_type": "execute_result",
          "data": {
            "text/html": [
              "<div>\n",
              "<style scoped>\n",
              "    .dataframe tbody tr th:only-of-type {\n",
              "        vertical-align: middle;\n",
              "    }\n",
              "\n",
              "    .dataframe tbody tr th {\n",
              "        vertical-align: top;\n",
              "    }\n",
              "\n",
              "    .dataframe thead th {\n",
              "        text-align: right;\n",
              "    }\n",
              "</style>\n",
              "<table border=\"1\" class=\"dataframe\">\n",
              "  <thead>\n",
              "    <tr style=\"text-align: right;\">\n",
              "      <th></th>\n",
              "      <th>auction_id</th>\n",
              "      <th>experiment</th>\n",
              "      <th>date</th>\n",
              "      <th>hour</th>\n",
              "      <th>device_make</th>\n",
              "      <th>platform_os</th>\n",
              "      <th>browser</th>\n",
              "      <th>yes</th>\n",
              "      <th>no</th>\n",
              "      <th>DOW</th>\n",
              "    </tr>\n",
              "  </thead>\n",
              "  <tbody>\n",
              "    <tr>\n",
              "      <th>6851</th>\n",
              "      <td>d97c5289-6836-426d-a402-6aac1fec97a9</td>\n",
              "      <td>1</td>\n",
              "      <td>2020-07-03</td>\n",
              "      <td>13</td>\n",
              "      <td>OnePlus ONEPLUS A3000</td>\n",
              "      <td>6</td>\n",
              "      <td>Chrome Mobile WebView</td>\n",
              "      <td>1</td>\n",
              "      <td>0</td>\n",
              "      <td>Friday</td>\n",
              "    </tr>\n",
              "    <tr>\n",
              "      <th>1978</th>\n",
              "      <td>4127c6a8-df3c-43be-9692-160978e24ee1</td>\n",
              "      <td>0</td>\n",
              "      <td>2020-07-03</td>\n",
              "      <td>15</td>\n",
              "      <td>Generic Smartphone</td>\n",
              "      <td>6</td>\n",
              "      <td>Chrome Mobile</td>\n",
              "      <td>1</td>\n",
              "      <td>0</td>\n",
              "      <td>Friday</td>\n",
              "    </tr>\n",
              "    <tr>\n",
              "      <th>2973</th>\n",
              "      <td>5f8b891c-ae33-41a3-bd9f-7a8b5238b7ae</td>\n",
              "      <td>1</td>\n",
              "      <td>2020-07-07</td>\n",
              "      <td>3</td>\n",
              "      <td>Samsung SM-G973F</td>\n",
              "      <td>6</td>\n",
              "      <td>Samsung Internet</td>\n",
              "      <td>0</td>\n",
              "      <td>1</td>\n",
              "      <td>Tuesday</td>\n",
              "    </tr>\n",
              "    <tr>\n",
              "      <th>3543</th>\n",
              "      <td>729284de-66d1-4f14-8f42-6b1db1e6473e</td>\n",
              "      <td>0</td>\n",
              "      <td>2020-07-10</td>\n",
              "      <td>4</td>\n",
              "      <td>Generic Smartphone</td>\n",
              "      <td>6</td>\n",
              "      <td>Chrome Mobile</td>\n",
              "      <td>1</td>\n",
              "      <td>0</td>\n",
              "      <td>Friday</td>\n",
              "    </tr>\n",
              "    <tr>\n",
              "      <th>4811</th>\n",
              "      <td>99740d86-02c1-4cb4-aeca-827cd6f70cfb</td>\n",
              "      <td>0</td>\n",
              "      <td>2020-07-04</td>\n",
              "      <td>22</td>\n",
              "      <td>LG-$2</td>\n",
              "      <td>6</td>\n",
              "      <td>Facebook</td>\n",
              "      <td>1</td>\n",
              "      <td>0</td>\n",
              "      <td>Saturday</td>\n",
              "    </tr>\n",
              "    <tr>\n",
              "      <th>1239</th>\n",
              "      <td>285e08bd-a53d-40e6-a44a-88820ee223dc</td>\n",
              "      <td>1</td>\n",
              "      <td>2020-07-04</td>\n",
              "      <td>2</td>\n",
              "      <td>Generic Smartphone</td>\n",
              "      <td>6</td>\n",
              "      <td>Chrome Mobile</td>\n",
              "      <td>0</td>\n",
              "      <td>1</td>\n",
              "      <td>Saturday</td>\n",
              "    </tr>\n",
              "    <tr>\n",
              "      <th>2998</th>\n",
              "      <td>6097d7ca-c6ed-43ea-a127-a1c158e551ae</td>\n",
              "      <td>0</td>\n",
              "      <td>2020-07-03</td>\n",
              "      <td>15</td>\n",
              "      <td>Generic Smartphone</td>\n",
              "      <td>6</td>\n",
              "      <td>Chrome Mobile</td>\n",
              "      <td>1</td>\n",
              "      <td>0</td>\n",
              "      <td>Friday</td>\n",
              "    </tr>\n",
              "    <tr>\n",
              "      <th>4405</th>\n",
              "      <td>8c731921-5cbe-48d7-9055-8ea751c15391</td>\n",
              "      <td>0</td>\n",
              "      <td>2020-07-08</td>\n",
              "      <td>15</td>\n",
              "      <td>Samsung SM-A405FN</td>\n",
              "      <td>6</td>\n",
              "      <td>Samsung Internet</td>\n",
              "      <td>0</td>\n",
              "      <td>1</td>\n",
              "      <td>Wednesday</td>\n",
              "    </tr>\n",
              "    <tr>\n",
              "      <th>5644</th>\n",
              "      <td>b2871417-e53c-49a2-86e1-8b19ac9e57d7</td>\n",
              "      <td>0</td>\n",
              "      <td>2020-07-03</td>\n",
              "      <td>15</td>\n",
              "      <td>Generic Smartphone</td>\n",
              "      <td>6</td>\n",
              "      <td>Chrome Mobile</td>\n",
              "      <td>0</td>\n",
              "      <td>1</td>\n",
              "      <td>Friday</td>\n",
              "    </tr>\n",
              "    <tr>\n",
              "      <th>2984</th>\n",
              "      <td>60079877-1f31-42ea-9336-ff20fdfad39c</td>\n",
              "      <td>0</td>\n",
              "      <td>2020-07-04</td>\n",
              "      <td>3</td>\n",
              "      <td>Generic Smartphone</td>\n",
              "      <td>6</td>\n",
              "      <td>Chrome Mobile</td>\n",
              "      <td>0</td>\n",
              "      <td>1</td>\n",
              "      <td>Saturday</td>\n",
              "    </tr>\n",
              "  </tbody>\n",
              "</table>\n",
              "</div>"
            ],
            "text/plain": [
              "                                auction_id  experiment  ... no        DOW\n",
              "6851  d97c5289-6836-426d-a402-6aac1fec97a9           1  ...  0     Friday\n",
              "1978  4127c6a8-df3c-43be-9692-160978e24ee1           0  ...  0     Friday\n",
              "2973  5f8b891c-ae33-41a3-bd9f-7a8b5238b7ae           1  ...  1    Tuesday\n",
              "3543  729284de-66d1-4f14-8f42-6b1db1e6473e           0  ...  0     Friday\n",
              "4811  99740d86-02c1-4cb4-aeca-827cd6f70cfb           0  ...  0   Saturday\n",
              "1239  285e08bd-a53d-40e6-a44a-88820ee223dc           1  ...  1   Saturday\n",
              "2998  6097d7ca-c6ed-43ea-a127-a1c158e551ae           0  ...  0     Friday\n",
              "4405  8c731921-5cbe-48d7-9055-8ea751c15391           0  ...  1  Wednesday\n",
              "5644  b2871417-e53c-49a2-86e1-8b19ac9e57d7           0  ...  1     Friday\n",
              "2984  60079877-1f31-42ea-9336-ff20fdfad39c           0  ...  1   Saturday\n",
              "\n",
              "[10 rows x 10 columns]"
            ]
          },
          "metadata": {
            "tags": []
          },
          "execution_count": 70
        }
      ]
    },
    {
      "cell_type": "code",
      "metadata": {
        "id": "E6tLQdbROsHL",
        "colab_type": "code",
        "colab": {
          "base_uri": "https://localhost:8080/",
          "height": 306
        },
        "outputId": "723dd294-efe6-45ee-8edb-44c14402ede8"
      },
      "source": [
        "data_total.info()"
      ],
      "execution_count": 52,
      "outputs": [
        {
          "output_type": "stream",
          "text": [
            "<class 'pandas.core.frame.DataFrame'>\n",
            "Int64Index: 8077 entries, 0 to 8076\n",
            "Data columns (total 10 columns):\n",
            " #   Column       Non-Null Count  Dtype         \n",
            "---  ------       --------------  -----         \n",
            " 0   auction_id   8077 non-null   object        \n",
            " 1   experiment   8077 non-null   int64         \n",
            " 2   date         8077 non-null   datetime64[ns]\n",
            " 3   hour         8077 non-null   int64         \n",
            " 4   device_make  8077 non-null   object        \n",
            " 5   platform_os  8077 non-null   int64         \n",
            " 6   browser      8077 non-null   object        \n",
            " 7   yes          8077 non-null   int64         \n",
            " 8   no           8077 non-null   int64         \n",
            " 9   DOW          8077 non-null   object        \n",
            "dtypes: datetime64[ns](1), int64(5), object(4)\n",
            "memory usage: 694.1+ KB\n"
          ],
          "name": "stdout"
        }
      ]
    },
    {
      "cell_type": "markdown",
      "metadata": {
        "id": "vFFgYO6-w902",
        "colab_type": "text"
      },
      "source": [
        "Remove `Date` and any missing data.Then shuffle the data set."
      ]
    },
    {
      "cell_type": "code",
      "metadata": {
        "id": "E9KrCCpqOsHN",
        "colab_type": "code",
        "colab": {}
      },
      "source": [
        "import numpy as np\n",
        "np.random.seed(7)\n",
        "import sklearn.utils\n",
        "\n",
        "# Remove missing data\n",
        "data_total.dropna(inplace=True)\n",
        "\n",
        "# Remove Date columns\n",
        "del data_total['date']\n",
        "\n",
        "# Shuffle the data\n",
        "data_total = sklearn.utils.shuffle(data_total)\n"
      ],
      "execution_count": 71,
      "outputs": []
    },
    {
      "cell_type": "code",
      "metadata": {
        "id": "MLkocIGgyBfj",
        "colab_type": "code",
        "colab": {
          "base_uri": "https://localhost:8080/",
          "height": 419
        },
        "outputId": "3359792a-5180-4557-c670-003bd2d75845"
      },
      "source": [
        "data_total"
      ],
      "execution_count": 72,
      "outputs": [
        {
          "output_type": "execute_result",
          "data": {
            "text/html": [
              "<div>\n",
              "<style scoped>\n",
              "    .dataframe tbody tr th:only-of-type {\n",
              "        vertical-align: middle;\n",
              "    }\n",
              "\n",
              "    .dataframe tbody tr th {\n",
              "        vertical-align: top;\n",
              "    }\n",
              "\n",
              "    .dataframe thead th {\n",
              "        text-align: right;\n",
              "    }\n",
              "</style>\n",
              "<table border=\"1\" class=\"dataframe\">\n",
              "  <thead>\n",
              "    <tr style=\"text-align: right;\">\n",
              "      <th></th>\n",
              "      <th>auction_id</th>\n",
              "      <th>experiment</th>\n",
              "      <th>hour</th>\n",
              "      <th>device_make</th>\n",
              "      <th>platform_os</th>\n",
              "      <th>browser</th>\n",
              "      <th>yes</th>\n",
              "      <th>no</th>\n",
              "      <th>DOW</th>\n",
              "    </tr>\n",
              "  </thead>\n",
              "  <tbody>\n",
              "    <tr>\n",
              "      <th>4157</th>\n",
              "      <td>8587f5fd-d3ac-4f9d-8fae-0261625a8b30</td>\n",
              "      <td>0</td>\n",
              "      <td>15</td>\n",
              "      <td>Generic Smartphone</td>\n",
              "      <td>6</td>\n",
              "      <td>Chrome Mobile</td>\n",
              "      <td>1</td>\n",
              "      <td>0</td>\n",
              "      <td>Friday</td>\n",
              "    </tr>\n",
              "    <tr>\n",
              "      <th>3742</th>\n",
              "      <td>7886e538-d171-497f-9120-419aa7593dfa</td>\n",
              "      <td>1</td>\n",
              "      <td>17</td>\n",
              "      <td>Samsung SM-A507FN</td>\n",
              "      <td>6</td>\n",
              "      <td>Chrome Mobile WebView</td>\n",
              "      <td>1</td>\n",
              "      <td>0</td>\n",
              "      <td>Thursday</td>\n",
              "    </tr>\n",
              "    <tr>\n",
              "      <th>701</th>\n",
              "      <td>16635abc-4436-46ac-ac92-92119d473f65</td>\n",
              "      <td>1</td>\n",
              "      <td>19</td>\n",
              "      <td>Generic Smartphone</td>\n",
              "      <td>6</td>\n",
              "      <td>Chrome Mobile</td>\n",
              "      <td>1</td>\n",
              "      <td>0</td>\n",
              "      <td>Thursday</td>\n",
              "    </tr>\n",
              "    <tr>\n",
              "      <th>6077</th>\n",
              "      <td>c0fad09f-ccdd-45b0-a658-6e9f43739e80</td>\n",
              "      <td>1</td>\n",
              "      <td>10</td>\n",
              "      <td>Samsung SM-G970F</td>\n",
              "      <td>6</td>\n",
              "      <td>Chrome Mobile WebView</td>\n",
              "      <td>1</td>\n",
              "      <td>0</td>\n",
              "      <td>Friday</td>\n",
              "    </tr>\n",
              "    <tr>\n",
              "      <th>7681</th>\n",
              "      <td>f32cd9f2-976a-41a4-873a-0cc074b7db53</td>\n",
              "      <td>0</td>\n",
              "      <td>15</td>\n",
              "      <td>Samsung SM-G930F</td>\n",
              "      <td>6</td>\n",
              "      <td>Samsung Internet</td>\n",
              "      <td>1</td>\n",
              "      <td>0</td>\n",
              "      <td>Friday</td>\n",
              "    </tr>\n",
              "    <tr>\n",
              "      <th>...</th>\n",
              "      <td>...</td>\n",
              "      <td>...</td>\n",
              "      <td>...</td>\n",
              "      <td>...</td>\n",
              "      <td>...</td>\n",
              "      <td>...</td>\n",
              "      <td>...</td>\n",
              "      <td>...</td>\n",
              "      <td>...</td>\n",
              "    </tr>\n",
              "    <tr>\n",
              "      <th>2813</th>\n",
              "      <td>5aacbe2c-080f-4542-a289-2f147fa71606</td>\n",
              "      <td>1</td>\n",
              "      <td>9</td>\n",
              "      <td>Generic Smartphone</td>\n",
              "      <td>6</td>\n",
              "      <td>Chrome Mobile</td>\n",
              "      <td>0</td>\n",
              "      <td>1</td>\n",
              "      <td>Friday</td>\n",
              "    </tr>\n",
              "    <tr>\n",
              "      <th>6058</th>\n",
              "      <td>c080c340-5287-44b3-9469-ffc4b4889cec</td>\n",
              "      <td>1</td>\n",
              "      <td>20</td>\n",
              "      <td>Generic Smartphone</td>\n",
              "      <td>6</td>\n",
              "      <td>Chrome Mobile</td>\n",
              "      <td>1</td>\n",
              "      <td>0</td>\n",
              "      <td>Thursday</td>\n",
              "    </tr>\n",
              "    <tr>\n",
              "      <th>6671</th>\n",
              "      <td>d3bad2f2-1619-413b-96c9-460ca19c4ab3</td>\n",
              "      <td>1</td>\n",
              "      <td>0</td>\n",
              "      <td>Samsung SM-A310F</td>\n",
              "      <td>6</td>\n",
              "      <td>Samsung Internet</td>\n",
              "      <td>1</td>\n",
              "      <td>0</td>\n",
              "      <td>Thursday</td>\n",
              "    </tr>\n",
              "    <tr>\n",
              "      <th>7851</th>\n",
              "      <td>f91d352a-c079-49da-81e8-9e40cb9d0dc4</td>\n",
              "      <td>0</td>\n",
              "      <td>9</td>\n",
              "      <td>Samsung SM-N975F</td>\n",
              "      <td>6</td>\n",
              "      <td>Samsung Internet</td>\n",
              "      <td>0</td>\n",
              "      <td>1</td>\n",
              "      <td>Wednesday</td>\n",
              "    </tr>\n",
              "    <tr>\n",
              "      <th>2427</th>\n",
              "      <td>4f071343-3271-4bac-906b-ba3cd6b9f15b</td>\n",
              "      <td>1</td>\n",
              "      <td>7</td>\n",
              "      <td>LG-$2</td>\n",
              "      <td>6</td>\n",
              "      <td>Chrome Mobile WebView</td>\n",
              "      <td>0</td>\n",
              "      <td>1</td>\n",
              "      <td>Sunday</td>\n",
              "    </tr>\n",
              "  </tbody>\n",
              "</table>\n",
              "<p>1243 rows × 9 columns</p>\n",
              "</div>"
            ],
            "text/plain": [
              "                                auction_id  experiment  ...  no        DOW\n",
              "4157  8587f5fd-d3ac-4f9d-8fae-0261625a8b30           0  ...   0     Friday\n",
              "3742  7886e538-d171-497f-9120-419aa7593dfa           1  ...   0   Thursday\n",
              "701   16635abc-4436-46ac-ac92-92119d473f65           1  ...   0   Thursday\n",
              "6077  c0fad09f-ccdd-45b0-a658-6e9f43739e80           1  ...   0     Friday\n",
              "7681  f32cd9f2-976a-41a4-873a-0cc074b7db53           0  ...   0     Friday\n",
              "...                                    ...         ...  ...  ..        ...\n",
              "2813  5aacbe2c-080f-4542-a289-2f147fa71606           1  ...   1     Friday\n",
              "6058  c080c340-5287-44b3-9469-ffc4b4889cec           1  ...   0   Thursday\n",
              "6671  d3bad2f2-1619-413b-96c9-460ca19c4ab3           1  ...   0   Thursday\n",
              "7851  f91d352a-c079-49da-81e8-9e40cb9d0dc4           0  ...   1  Wednesday\n",
              "2427  4f071343-3271-4bac-906b-ba3cd6b9f15b           1  ...   1     Sunday\n",
              "\n",
              "[1243 rows x 9 columns]"
            ]
          },
          "metadata": {
            "tags": []
          },
          "execution_count": 72
        }
      ]
    },
    {
      "cell_type": "markdown",
      "metadata": {
        "id": "Bdb14WouyHQ8",
        "colab_type": "text"
      },
      "source": [
        "Change all independent variables to numerical values.They will be **labelled** a new number as per their previous entry."
      ]
    },
    {
      "cell_type": "code",
      "metadata": {
        "id": "cw3c11l5OsHR",
        "colab_type": "code",
        "colab": {
          "base_uri": "https://localhost:8080/",
          "height": 419
        },
        "outputId": "7ab6648a-6ce3-4584-8b2d-49a92daabe96"
      },
      "source": [
        "data_total = data_total[['auction_id', 'hour', 'device_make', 'platform_os', 'browser', 'yes', 'no','experiment']]\n",
        "data_total['row_id'] = data_total.index\n",
        "data_total=data_total.drop(['auction_id'],axis=1)\n",
        "data_total=data_total.drop(['device_make'],axis=1)\n",
        "lb = LabelEncoder()\n",
        "data_total['browser'] = lb.fit_transform(data_total['browser'])\n",
        "\n",
        "data_total\n"
      ],
      "execution_count": 73,
      "outputs": [
        {
          "output_type": "execute_result",
          "data": {
            "text/html": [
              "<div>\n",
              "<style scoped>\n",
              "    .dataframe tbody tr th:only-of-type {\n",
              "        vertical-align: middle;\n",
              "    }\n",
              "\n",
              "    .dataframe tbody tr th {\n",
              "        vertical-align: top;\n",
              "    }\n",
              "\n",
              "    .dataframe thead th {\n",
              "        text-align: right;\n",
              "    }\n",
              "</style>\n",
              "<table border=\"1\" class=\"dataframe\">\n",
              "  <thead>\n",
              "    <tr style=\"text-align: right;\">\n",
              "      <th></th>\n",
              "      <th>hour</th>\n",
              "      <th>platform_os</th>\n",
              "      <th>browser</th>\n",
              "      <th>yes</th>\n",
              "      <th>no</th>\n",
              "      <th>experiment</th>\n",
              "      <th>row_id</th>\n",
              "    </tr>\n",
              "  </thead>\n",
              "  <tbody>\n",
              "    <tr>\n",
              "      <th>4157</th>\n",
              "      <td>15</td>\n",
              "      <td>6</td>\n",
              "      <td>1</td>\n",
              "      <td>1</td>\n",
              "      <td>0</td>\n",
              "      <td>0</td>\n",
              "      <td>4157</td>\n",
              "    </tr>\n",
              "    <tr>\n",
              "      <th>3742</th>\n",
              "      <td>17</td>\n",
              "      <td>6</td>\n",
              "      <td>2</td>\n",
              "      <td>1</td>\n",
              "      <td>0</td>\n",
              "      <td>1</td>\n",
              "      <td>3742</td>\n",
              "    </tr>\n",
              "    <tr>\n",
              "      <th>701</th>\n",
              "      <td>19</td>\n",
              "      <td>6</td>\n",
              "      <td>1</td>\n",
              "      <td>1</td>\n",
              "      <td>0</td>\n",
              "      <td>1</td>\n",
              "      <td>701</td>\n",
              "    </tr>\n",
              "    <tr>\n",
              "      <th>6077</th>\n",
              "      <td>10</td>\n",
              "      <td>6</td>\n",
              "      <td>2</td>\n",
              "      <td>1</td>\n",
              "      <td>0</td>\n",
              "      <td>1</td>\n",
              "      <td>6077</td>\n",
              "    </tr>\n",
              "    <tr>\n",
              "      <th>7681</th>\n",
              "      <td>15</td>\n",
              "      <td>6</td>\n",
              "      <td>7</td>\n",
              "      <td>1</td>\n",
              "      <td>0</td>\n",
              "      <td>0</td>\n",
              "      <td>7681</td>\n",
              "    </tr>\n",
              "    <tr>\n",
              "      <th>...</th>\n",
              "      <td>...</td>\n",
              "      <td>...</td>\n",
              "      <td>...</td>\n",
              "      <td>...</td>\n",
              "      <td>...</td>\n",
              "      <td>...</td>\n",
              "      <td>...</td>\n",
              "    </tr>\n",
              "    <tr>\n",
              "      <th>2813</th>\n",
              "      <td>9</td>\n",
              "      <td>6</td>\n",
              "      <td>1</td>\n",
              "      <td>0</td>\n",
              "      <td>1</td>\n",
              "      <td>1</td>\n",
              "      <td>2813</td>\n",
              "    </tr>\n",
              "    <tr>\n",
              "      <th>6058</th>\n",
              "      <td>20</td>\n",
              "      <td>6</td>\n",
              "      <td>1</td>\n",
              "      <td>1</td>\n",
              "      <td>0</td>\n",
              "      <td>1</td>\n",
              "      <td>6058</td>\n",
              "    </tr>\n",
              "    <tr>\n",
              "      <th>6671</th>\n",
              "      <td>0</td>\n",
              "      <td>6</td>\n",
              "      <td>7</td>\n",
              "      <td>1</td>\n",
              "      <td>0</td>\n",
              "      <td>1</td>\n",
              "      <td>6671</td>\n",
              "    </tr>\n",
              "    <tr>\n",
              "      <th>7851</th>\n",
              "      <td>9</td>\n",
              "      <td>6</td>\n",
              "      <td>7</td>\n",
              "      <td>0</td>\n",
              "      <td>1</td>\n",
              "      <td>0</td>\n",
              "      <td>7851</td>\n",
              "    </tr>\n",
              "    <tr>\n",
              "      <th>2427</th>\n",
              "      <td>7</td>\n",
              "      <td>6</td>\n",
              "      <td>2</td>\n",
              "      <td>0</td>\n",
              "      <td>1</td>\n",
              "      <td>1</td>\n",
              "      <td>2427</td>\n",
              "    </tr>\n",
              "  </tbody>\n",
              "</table>\n",
              "<p>1243 rows × 7 columns</p>\n",
              "</div>"
            ],
            "text/plain": [
              "      hour  platform_os  browser  yes  no  experiment  row_id\n",
              "4157    15            6        1    1   0           0    4157\n",
              "3742    17            6        2    1   0           1    3742\n",
              "701     19            6        1    1   0           1     701\n",
              "6077    10            6        2    1   0           1    6077\n",
              "7681    15            6        7    1   0           0    7681\n",
              "...    ...          ...      ...  ...  ..         ...     ...\n",
              "2813     9            6        1    0   1           1    2813\n",
              "6058    20            6        1    1   0           1    6058\n",
              "6671     0            6        7    1   0           1    6671\n",
              "7851     9            6        7    0   1           0    7851\n",
              "2427     7            6        2    0   1           1    2427\n",
              "\n",
              "[1243 rows x 7 columns]"
            ]
          },
          "metadata": {
            "tags": []
          },
          "execution_count": 73
        }
      ]
    },
    {
      "cell_type": "markdown",
      "metadata": {
        "id": "lMVJHjaYzJtd",
        "colab_type": "text"
      },
      "source": [
        "# Split data into Training ,Testing and Validatting"
      ]
    },
    {
      "cell_type": "markdown",
      "metadata": {
        "id": "D8KsAmL2zf3J",
        "colab_type": "text"
      },
      "source": [
        "Since we are going to pridict for **yes**,it is separated from the rest.Also **`row_id`** and **`no`** columns are because they are irrelevant for our prediction.**Row_id** is randomly assigned and shouldnt stir our prediction."
      ]
    },
    {
      "cell_type": "markdown",
      "metadata": {
        "id": "_izNgzIR0dd7",
        "colab_type": "text"
      },
      "source": [
        "On the other hand the **`no`** column is removed because had we known its value this all prediction would be to no avail."
      ]
    },
    {
      "cell_type": "code",
      "metadata": {
        "id": "yI6oxGLgOsHU",
        "colab_type": "code",
        "colab": {
          "base_uri": "https://localhost:8080/",
          "height": 419
        },
        "outputId": "3c98142e-abee-42e4-8023-57d55d000b49"
      },
      "source": [
        "\n",
        "survived =  data_total['yes']                                       #data_total.iloc[:, [5]]\n",
        "titanic = data_total.drop(['yes'],axis=1)\n",
        "titanic = titanic.drop(['row_id'],axis=1)\n",
        "titanic = titanic.drop(['no'],axis=1)\n",
        "\n",
        "x_train, x_test, y_train, y_test = train_test_split(titanic, survived, test_size = 0.2, random_state=42)\n",
        "titanic"
      ],
      "execution_count": 77,
      "outputs": [
        {
          "output_type": "execute_result",
          "data": {
            "text/html": [
              "<div>\n",
              "<style scoped>\n",
              "    .dataframe tbody tr th:only-of-type {\n",
              "        vertical-align: middle;\n",
              "    }\n",
              "\n",
              "    .dataframe tbody tr th {\n",
              "        vertical-align: top;\n",
              "    }\n",
              "\n",
              "    .dataframe thead th {\n",
              "        text-align: right;\n",
              "    }\n",
              "</style>\n",
              "<table border=\"1\" class=\"dataframe\">\n",
              "  <thead>\n",
              "    <tr style=\"text-align: right;\">\n",
              "      <th></th>\n",
              "      <th>hour</th>\n",
              "      <th>platform_os</th>\n",
              "      <th>browser</th>\n",
              "      <th>experiment</th>\n",
              "    </tr>\n",
              "  </thead>\n",
              "  <tbody>\n",
              "    <tr>\n",
              "      <th>4157</th>\n",
              "      <td>15</td>\n",
              "      <td>6</td>\n",
              "      <td>1</td>\n",
              "      <td>0</td>\n",
              "    </tr>\n",
              "    <tr>\n",
              "      <th>3742</th>\n",
              "      <td>17</td>\n",
              "      <td>6</td>\n",
              "      <td>2</td>\n",
              "      <td>1</td>\n",
              "    </tr>\n",
              "    <tr>\n",
              "      <th>701</th>\n",
              "      <td>19</td>\n",
              "      <td>6</td>\n",
              "      <td>1</td>\n",
              "      <td>1</td>\n",
              "    </tr>\n",
              "    <tr>\n",
              "      <th>6077</th>\n",
              "      <td>10</td>\n",
              "      <td>6</td>\n",
              "      <td>2</td>\n",
              "      <td>1</td>\n",
              "    </tr>\n",
              "    <tr>\n",
              "      <th>7681</th>\n",
              "      <td>15</td>\n",
              "      <td>6</td>\n",
              "      <td>7</td>\n",
              "      <td>0</td>\n",
              "    </tr>\n",
              "    <tr>\n",
              "      <th>...</th>\n",
              "      <td>...</td>\n",
              "      <td>...</td>\n",
              "      <td>...</td>\n",
              "      <td>...</td>\n",
              "    </tr>\n",
              "    <tr>\n",
              "      <th>2813</th>\n",
              "      <td>9</td>\n",
              "      <td>6</td>\n",
              "      <td>1</td>\n",
              "      <td>1</td>\n",
              "    </tr>\n",
              "    <tr>\n",
              "      <th>6058</th>\n",
              "      <td>20</td>\n",
              "      <td>6</td>\n",
              "      <td>1</td>\n",
              "      <td>1</td>\n",
              "    </tr>\n",
              "    <tr>\n",
              "      <th>6671</th>\n",
              "      <td>0</td>\n",
              "      <td>6</td>\n",
              "      <td>7</td>\n",
              "      <td>1</td>\n",
              "    </tr>\n",
              "    <tr>\n",
              "      <th>7851</th>\n",
              "      <td>9</td>\n",
              "      <td>6</td>\n",
              "      <td>7</td>\n",
              "      <td>0</td>\n",
              "    </tr>\n",
              "    <tr>\n",
              "      <th>2427</th>\n",
              "      <td>7</td>\n",
              "      <td>6</td>\n",
              "      <td>2</td>\n",
              "      <td>1</td>\n",
              "    </tr>\n",
              "  </tbody>\n",
              "</table>\n",
              "<p>1243 rows × 4 columns</p>\n",
              "</div>"
            ],
            "text/plain": [
              "      hour  platform_os  browser  experiment\n",
              "4157    15            6        1           0\n",
              "3742    17            6        2           1\n",
              "701     19            6        1           1\n",
              "6077    10            6        2           1\n",
              "7681    15            6        7           0\n",
              "...    ...          ...      ...         ...\n",
              "2813     9            6        1           1\n",
              "6058    20            6        1           1\n",
              "6671     0            6        7           1\n",
              "7851     9            6        7           0\n",
              "2427     7            6        2           1\n",
              "\n",
              "[1243 rows x 4 columns]"
            ]
          },
          "metadata": {
            "tags": []
          },
          "execution_count": 77
        }
      ]
    },
    {
      "cell_type": "code",
      "metadata": {
        "id": "nUKCXkUXOsHW",
        "colab_type": "code",
        "colab": {
          "base_uri": "https://localhost:8080/",
          "height": 221
        },
        "outputId": "f7d4986a-654e-4051-e362-ac8a505595f0"
      },
      "source": [
        "survived"
      ],
      "execution_count": 78,
      "outputs": [
        {
          "output_type": "execute_result",
          "data": {
            "text/plain": [
              "4157    1\n",
              "3742    1\n",
              "701     1\n",
              "6077    1\n",
              "7681    1\n",
              "       ..\n",
              "2813    0\n",
              "6058    1\n",
              "6671    1\n",
              "7851    0\n",
              "2427    0\n",
              "Name: yes, Length: 1243, dtype: int64"
            ]
          },
          "metadata": {
            "tags": []
          },
          "execution_count": 78
        }
      ]
    },
    {
      "cell_type": "markdown",
      "metadata": {
        "id": "YGmFcZ8f3gW_",
        "colab_type": "text"
      },
      "source": [
        "Next we are going to create different models and take the best one using **GridSearch.**"
      ]
    },
    {
      "cell_type": "code",
      "metadata": {
        "id": "aewl7TtCOsHZ",
        "colab_type": "code",
        "colab": {
          "base_uri": "https://localhost:8080/",
          "height": 306
        },
        "outputId": "785c8519-5cf7-4e26-d727-46c8e9aa0e30"
      },
      "source": [
        "# Create logistic regression object\n",
        "from sklearn import linear_model\n",
        "from sklearn.linear_model import LogisticRegression\n",
        "from sklearn.model_selection import GridSearchCV\n",
        "\n",
        "logistic = linear_model.LogisticRegression()\n",
        "# Create a list of all of the different penalty values that you want to test and save them to a variable called 'penalty'\n",
        "penalty = ['l1', 'l2']\n",
        "# Create a list of all of the different C values that you want to test and save them to a variable called 'C'\n",
        "C = [0.0001, 0.001, 0.01, 1, 100]\n",
        "# Now that you have two lists each holding the different values that you want test, use the dict() function to combine them into a dictionary. \n",
        "# Save your new dictionary to the variable 'hyperparameters'\n",
        "hyperparameters = dict(C=C, penalty=penalty)\n",
        "# Fit your model using gridsearch\n",
        "clf = GridSearchCV(logistic, hyperparameters, cv=5, verbose=0)\n",
        "best_model = clf.fit(X, Y)\n",
        "#Print all the Parameters that gave the best results:\n",
        "print('Best Parameters',clf.best_params_)\n",
        "# You can also print the best penalty and C value individually from best_model.best_estimator_.get_params()\n",
        "print('Best Penalty:', best_model.best_estimator_.get_params()['penalty'])\n",
        "print('Best C:', best_model.best_estimator_.get_params()['C'])\n",
        "best_model"
      ],
      "execution_count": 82,
      "outputs": [
        {
          "output_type": "stream",
          "text": [
            "Best Parameters {'C': 0.01, 'penalty': 'l2'}\n",
            "Best Penalty: l2\n",
            "Best C: 0.01\n"
          ],
          "name": "stdout"
        },
        {
          "output_type": "execute_result",
          "data": {
            "text/plain": [
              "GridSearchCV(cv=5, error_score=nan,\n",
              "             estimator=LogisticRegression(C=1.0, class_weight=None, dual=False,\n",
              "                                          fit_intercept=True,\n",
              "                                          intercept_scaling=1, l1_ratio=None,\n",
              "                                          max_iter=100, multi_class='auto',\n",
              "                                          n_jobs=None, penalty='l2',\n",
              "                                          random_state=None, solver='lbfgs',\n",
              "                                          tol=0.0001, verbose=0,\n",
              "                                          warm_start=False),\n",
              "             iid='deprecated', n_jobs=None,\n",
              "             param_grid={'C': [0.0001, 0.001, 0.01, 1, 100],\n",
              "                         'penalty': ['l1', 'l2']},\n",
              "             pre_dispatch='2*n_jobs', refit=True, return_train_score=False,\n",
              "             scoring=None, verbose=0)"
            ]
          },
          "metadata": {
            "tags": []
          },
          "execution_count": 82
        }
      ]
    },
    {
      "cell_type": "markdown",
      "metadata": {
        "id": "ZSimig-B3v7z",
        "colab_type": "text"
      },
      "source": [
        "After we have the best model we will predict with it.We can seehow many we missed using **Confusion matrix.**"
      ]
    },
    {
      "cell_type": "code",
      "metadata": {
        "id": "qiSRCB1NOsHb",
        "colab_type": "code",
        "colab": {
          "base_uri": "https://localhost:8080/",
          "height": 51
        },
        "outputId": "a1efa599-fa71-4686-ea56-fba9c46d376c"
      },
      "source": [
        "from sklearn.metrics import confusion_matrix\n",
        "y_preds = best_model.predict(x_test)\n",
        "from sklearn.metrics import confusion_matrix\n",
        "confusion_matrix = confusion_matrix(y_test, y_preds)\n",
        "\n",
        "print(confusion_matrix)\n",
        "\n"
      ],
      "execution_count": 83,
      "outputs": [
        {
          "output_type": "stream",
          "text": [
            "[[121   8]\n",
            " [104  16]]\n"
          ],
          "name": "stdout"
        }
      ]
    },
    {
      "cell_type": "markdown",
      "metadata": {
        "id": "mYHEpWpB4FDy",
        "colab_type": "text"
      },
      "source": [
        "Our **accuracy** is follows"
      ]
    },
    {
      "cell_type": "code",
      "metadata": {
        "id": "rzRfYBBNOsHd",
        "colab_type": "code",
        "colab": {
          "base_uri": "https://localhost:8080/",
          "height": 34
        },
        "outputId": "7ff08e13-23c3-4b95-9f37-86eee4392161"
      },
      "source": [
        "from sklearn.metrics import accuracy_score\n",
        "accuracy_score(y_test, y_preds, normalize=True)"
      ],
      "execution_count": 84,
      "outputs": [
        {
          "output_type": "execute_result",
          "data": {
            "text/plain": [
              "0.5502008032128514"
            ]
          },
          "metadata": {
            "tags": []
          },
          "execution_count": 84
        }
      ]
    },
    {
      "cell_type": "markdown",
      "metadata": {
        "id": "ihqZqOhF4MTs",
        "colab_type": "text"
      },
      "source": [
        "The raw **Pridicted** data is shown below."
      ]
    },
    {
      "cell_type": "code",
      "metadata": {
        "id": "L_MqbUitOsHf",
        "colab_type": "code",
        "colab": {},
        "outputId": "3de66fa7-4915-45a4-f40f-3caa0e3c8495"
      },
      "source": [
        "y_test=np.array(y_test)\n",
        "y_test"
      ],
      "execution_count": null,
      "outputs": [
        {
          "output_type": "execute_result",
          "data": {
            "text/plain": [
              "array([0, 0, 1, 1, 1, 1, 1, 0, 1, 0, 1, 0, 1, 0, 0, 1, 0, 0, 0, 0, 0, 0,\n",
              "       1, 1, 0, 0, 1, 0, 0, 1, 1, 0, 0, 1, 0, 0, 0, 0, 0, 0, 1, 1, 1, 0,\n",
              "       0, 1, 0, 0, 0, 0, 1, 0, 1, 1, 0, 0, 1, 1, 0, 1, 1, 0, 0, 0, 0, 1,\n",
              "       0, 0, 0, 0, 1, 0, 1, 1, 1, 1, 1, 0, 0, 1, 0, 1, 0, 1, 1, 1, 0, 0,\n",
              "       0, 0, 0, 0, 1, 1, 1, 0, 0, 0, 1, 0, 0, 0, 0, 1, 1, 0, 1, 1, 1, 1,\n",
              "       0, 1, 0, 1, 1, 1, 0, 0, 0, 1, 0, 0, 1, 1, 1, 1, 1, 0, 0, 0, 1, 1,\n",
              "       0, 1, 0, 0, 1, 1, 1, 1, 1, 1, 0, 0, 1, 0, 0, 1, 1, 0, 0, 0, 0, 0,\n",
              "       1, 0, 0, 1, 1, 1, 1, 0, 0, 1, 0, 1, 0, 0, 0, 1, 0, 0, 0, 0, 0, 0,\n",
              "       0, 1, 1, 0, 1, 1, 1, 1, 0, 0, 0, 1, 0, 0, 1, 1, 1, 0, 1, 1, 1, 0,\n",
              "       1, 0, 0, 1, 0, 1, 1, 1, 0, 0, 1, 1, 1, 0, 0, 0, 0, 1, 0, 1, 1, 0,\n",
              "       0, 0, 0, 0, 1, 0, 0, 1, 0, 0, 0, 0, 1, 0, 0, 0, 1, 0, 1, 0, 1, 0,\n",
              "       1, 1, 1, 1, 1, 1, 0], dtype=int64)"
            ]
          },
          "metadata": {
            "tags": []
          },
          "execution_count": 23
        }
      ]
    },
    {
      "cell_type": "code",
      "metadata": {
        "id": "L-wXUTn5OsHg",
        "colab_type": "code",
        "colab": {
          "base_uri": "https://localhost:8080/",
          "height": 68
        },
        "outputId": "123f54a3-9831-46ab-be6d-9e3b5bfbd8ee"
      },
      "source": [
        "calculate_metrics(y_test, y_preds)"
      ],
      "execution_count": 85,
      "outputs": [
        {
          "output_type": "stream",
          "text": [
            "RMSE Score: 0.670670706671425\n",
            "R2_Squared: -0.801550387596899\n",
            "MAE Score: 0.4497991967871486\n"
          ],
          "name": "stdout"
        }
      ]
    },
    {
      "cell_type": "markdown",
      "metadata": {
        "id": "1nLy-Tlt5E8T",
        "colab_type": "text"
      },
      "source": [
        "Plot of **predicted** data and **test** data."
      ]
    },
    {
      "cell_type": "code",
      "metadata": {
        "id": "gnJY2dGUOsHj",
        "colab_type": "code",
        "colab": {
          "base_uri": "https://localhost:8080/",
          "height": 899
        },
        "outputId": "09f58f23-e66e-4903-fdb6-1c113800c1a8"
      },
      "source": [
        "plot_preds(y_test, y_preds, 'Logistic Regression')"
      ],
      "execution_count": 86,
      "outputs": [
        {
          "output_type": "display_data",
          "data": {
            "image/png": "[encoded data removed]",
            "text/plain": [
              "<Figure size 1440x1080 with 1 Axes>"
            ]
          },
          "metadata": {
            "tags": []
          }
        }
      ]
    },
    {
      "cell_type": "markdown",
      "metadata": {
        "id": "gM5gqIrGOsHl",
        "colab_type": "text"
      },
      "source": [
        "# Model 02: Decision Tree"
      ]
    },
    {
      "cell_type": "code",
      "metadata": {
        "id": "l6a6YZCZOsHl",
        "colab_type": "code",
        "colab": {}
      },
      "source": [
        "For decision tree we will use pre determined parameters which consider K-fold as 5."
      ],
      "execution_count": 86,
      "outputs": []
    },
    {
      "cell_type": "code",
      "metadata": {
        "id": "hLQIYnpLOsHp",
        "colab_type": "code",
        "colab": {}
      },
      "source": [
        "from sklearn.tree import DecisionTreeClassifier\n",
        "clf_gini = DecisionTreeClassifier(criterion = \"gini\", \n",
        "            random_state = 100,max_depth=3, min_samples_leaf=5) \n",
        "  \n",
        "    # Performing training \n",
        "clf_gini.fit(x_train, y_train) \n",
        "y_preds=clf_gini.predict(x_test)"
      ],
      "execution_count": 111,
      "outputs": []
    },
    {
      "cell_type": "markdown",
      "metadata": {
        "id": "sxZpoFBV6WEQ",
        "colab_type": "text"
      },
      "source": [
        "We also calculate here accuracy and its lower than **Logistic regression.**"
      ]
    },
    {
      "cell_type": "code",
      "metadata": {
        "id": "-G1Vu8Xn6LWr",
        "colab_type": "code",
        "colab": {
          "base_uri": "https://localhost:8080/",
          "height": 34
        },
        "outputId": "a9afa608-a99e-4f2f-d2c3-d9dea351b078"
      },
      "source": [
        "accuracy_score(y_test, y_preds, normalize=True)"
      ],
      "execution_count": 112,
      "outputs": [
        {
          "output_type": "execute_result",
          "data": {
            "text/plain": [
              "0.5220883534136547"
            ]
          },
          "metadata": {
            "tags": []
          },
          "execution_count": 112
        }
      ]
    },
    {
      "cell_type": "code",
      "metadata": {
        "id": "oibFCphcOsHq",
        "colab_type": "code",
        "colab": {
          "base_uri": "https://localhost:8080/",
          "height": 899
        },
        "outputId": "e9b40b08-f308-4dc5-9e79-7dc6543b67d6"
      },
      "source": [
        "plot_preds(y_test, y_preds, 'Decision Tree')"
      ],
      "execution_count": 110,
      "outputs": [
        {
          "output_type": "display_data",
          "data": {
            "image/png": "[encoded data removed]",
            "text/plain": [
              "<Figure size 1440x1080 with 1 Axes>"
            ]
          },
          "metadata": {
            "tags": []
          }
        }
      ]
    },
    {
      "cell_type": "code",
      "metadata": {
        "id": "6Pia6rRIOsHs",
        "colab_type": "code",
        "colab": {
          "base_uri": "https://localhost:8080/",
          "height": 68
        },
        "outputId": "533e02d2-26bf-4136-a2a9-cbb3af26cd62"
      },
      "source": [
        "calculate_metrics(y_test, y_preds)"
      ],
      "execution_count": 113,
      "outputs": [
        {
          "output_type": "stream",
          "text": [
            "RMSE Score: 0.6913115409034811\n",
            "R2_Squared: -0.9141472868217053\n",
            "MAE Score: 0.4779116465863454\n"
          ],
          "name": "stdout"
        }
      ]
    },
    {
      "cell_type": "markdown",
      "metadata": {
        "id": "iVcWLONK65AA",
        "colab_type": "text"
      },
      "source": [
        "# XGBoost"
      ]
    },
    {
      "cell_type": "code",
      "metadata": {
        "id": "_G8SOLn4OsHu",
        "colab_type": "code",
        "colab": {}
      },
      "source": [
        "import xgboost as xgb"
      ],
      "execution_count": 114,
      "outputs": []
    },
    {
      "cell_type": "markdown",
      "metadata": {
        "id": "UUQ84O6h7ERI",
        "colab_type": "text"
      },
      "source": [
        "Lets refresh our memory"
      ]
    },
    {
      "cell_type": "code",
      "metadata": {
        "id": "uLIzp6BHOsHw",
        "colab_type": "code",
        "colab": {
          "base_uri": "https://localhost:8080/",
          "height": 419
        },
        "outputId": "39cef78e-ae63-43d1-a89a-0ac687387a73"
      },
      "source": [
        "x_train"
      ],
      "execution_count": 115,
      "outputs": [
        {
          "output_type": "execute_result",
          "data": {
            "text/html": [
              "<div>\n",
              "<style scoped>\n",
              "    .dataframe tbody tr th:only-of-type {\n",
              "        vertical-align: middle;\n",
              "    }\n",
              "\n",
              "    .dataframe tbody tr th {\n",
              "        vertical-align: top;\n",
              "    }\n",
              "\n",
              "    .dataframe thead th {\n",
              "        text-align: right;\n",
              "    }\n",
              "</style>\n",
              "<table border=\"1\" class=\"dataframe\">\n",
              "  <thead>\n",
              "    <tr style=\"text-align: right;\">\n",
              "      <th></th>\n",
              "      <th>hour</th>\n",
              "      <th>platform_os</th>\n",
              "      <th>browser</th>\n",
              "      <th>experiment</th>\n",
              "    </tr>\n",
              "  </thead>\n",
              "  <tbody>\n",
              "    <tr>\n",
              "      <th>6344</th>\n",
              "      <td>7</td>\n",
              "      <td>6</td>\n",
              "      <td>1</td>\n",
              "      <td>1</td>\n",
              "    </tr>\n",
              "    <tr>\n",
              "      <th>5270</th>\n",
              "      <td>15</td>\n",
              "      <td>6</td>\n",
              "      <td>7</td>\n",
              "      <td>0</td>\n",
              "    </tr>\n",
              "    <tr>\n",
              "      <th>4858</th>\n",
              "      <td>17</td>\n",
              "      <td>6</td>\n",
              "      <td>1</td>\n",
              "      <td>0</td>\n",
              "    </tr>\n",
              "    <tr>\n",
              "      <th>144</th>\n",
              "      <td>2</td>\n",
              "      <td>6</td>\n",
              "      <td>2</td>\n",
              "      <td>1</td>\n",
              "    </tr>\n",
              "    <tr>\n",
              "      <th>7718</th>\n",
              "      <td>15</td>\n",
              "      <td>6</td>\n",
              "      <td>7</td>\n",
              "      <td>0</td>\n",
              "    </tr>\n",
              "    <tr>\n",
              "      <th>...</th>\n",
              "      <td>...</td>\n",
              "      <td>...</td>\n",
              "      <td>...</td>\n",
              "      <td>...</td>\n",
              "    </tr>\n",
              "    <tr>\n",
              "      <th>7546</th>\n",
              "      <td>4</td>\n",
              "      <td>6</td>\n",
              "      <td>1</td>\n",
              "      <td>1</td>\n",
              "    </tr>\n",
              "    <tr>\n",
              "      <th>5878</th>\n",
              "      <td>12</td>\n",
              "      <td>6</td>\n",
              "      <td>1</td>\n",
              "      <td>0</td>\n",
              "    </tr>\n",
              "    <tr>\n",
              "      <th>7076</th>\n",
              "      <td>7</td>\n",
              "      <td>6</td>\n",
              "      <td>1</td>\n",
              "      <td>0</td>\n",
              "    </tr>\n",
              "    <tr>\n",
              "      <th>6290</th>\n",
              "      <td>3</td>\n",
              "      <td>6</td>\n",
              "      <td>1</td>\n",
              "      <td>1</td>\n",
              "    </tr>\n",
              "    <tr>\n",
              "      <th>2488</th>\n",
              "      <td>4</td>\n",
              "      <td>6</td>\n",
              "      <td>2</td>\n",
              "      <td>1</td>\n",
              "    </tr>\n",
              "  </tbody>\n",
              "</table>\n",
              "<p>994 rows × 4 columns</p>\n",
              "</div>"
            ],
            "text/plain": [
              "      hour  platform_os  browser  experiment\n",
              "6344     7            6        1           1\n",
              "5270    15            6        7           0\n",
              "4858    17            6        1           0\n",
              "144      2            6        2           1\n",
              "7718    15            6        7           0\n",
              "...    ...          ...      ...         ...\n",
              "7546     4            6        1           1\n",
              "5878    12            6        1           0\n",
              "7076     7            6        1           0\n",
              "6290     3            6        1           1\n",
              "2488     4            6        2           1\n",
              "\n",
              "[994 rows x 4 columns]"
            ]
          },
          "metadata": {
            "tags": []
          },
          "execution_count": 115
        }
      ]
    },
    {
      "cell_type": "code",
      "metadata": {
        "id": "1DRH4cI2OsHy",
        "colab_type": "code",
        "colab": {
          "base_uri": "https://localhost:8080/",
          "height": 221
        },
        "outputId": "1efa08cf-9ad4-4568-8fab-bd7fcb56175b"
      },
      "source": [
        "y_train"
      ],
      "execution_count": 116,
      "outputs": [
        {
          "output_type": "execute_result",
          "data": {
            "text/plain": [
              "6344    1\n",
              "5270    0\n",
              "4858    1\n",
              "144     1\n",
              "7718    0\n",
              "       ..\n",
              "7546    1\n",
              "5878    0\n",
              "7076    0\n",
              "6290    0\n",
              "2488    0\n",
              "Name: yes, Length: 994, dtype: int64"
            ]
          },
          "metadata": {
            "tags": []
          },
          "execution_count": 116
        }
      ]
    },
    {
      "cell_type": "code",
      "metadata": {
        "id": "Yx2lDHnMOsHz",
        "colab_type": "code",
        "colab": {
          "base_uri": "https://localhost:8080/",
          "height": 204
        },
        "outputId": "2f5eff80-0742-44fd-b8b4-ea26950ee81d"
      },
      "source": [
        "x_train.info()"
      ],
      "execution_count": 94,
      "outputs": [
        {
          "output_type": "stream",
          "text": [
            "<class 'pandas.core.frame.DataFrame'>\n",
            "Int64Index: 994 entries, 6344 to 2488\n",
            "Data columns (total 4 columns):\n",
            " #   Column       Non-Null Count  Dtype\n",
            "---  ------       --------------  -----\n",
            " 0   hour         994 non-null    int64\n",
            " 1   platform_os  994 non-null    int64\n",
            " 2   browser      994 non-null    int64\n",
            " 3   experiment   994 non-null    int64\n",
            "dtypes: int64(4)\n",
            "memory usage: 38.8 KB\n"
          ],
          "name": "stdout"
        }
      ]
    },
    {
      "cell_type": "code",
      "metadata": {
        "id": "e-f8sgjzOsH1",
        "colab_type": "code",
        "colab": {}
      },
      "source": [
        "DM_train = xgb.DMatrix(data=x_train,label=y_train)\n",
        "DM_test = xgb.DMatrix(data=x_test,label=y_test)"
      ],
      "execution_count": 95,
      "outputs": []
    },
    {
      "cell_type": "markdown",
      "metadata": {
        "id": "ZaI8_Oh07OMQ",
        "colab_type": "text"
      },
      "source": [
        "The below parameters are considering k fold-5."
      ]
    },
    {
      "cell_type": "code",
      "metadata": {
        "id": "V07pPradOsH3",
        "colab_type": "code",
        "colab": {}
      },
      "source": [
        "parameters = {\n",
        "    'max_depth': 6,\n",
        "    'objective': 'reg:linear',\n",
        "    'booster': 'gblinear',\n",
        "    'n_estimators': 1000,\n",
        "    'learning_rate': 0.2,\n",
        "    'gamma': 0.01,\n",
        "    'random_state': 7,\n",
        "    'subsample': 1.\n",
        "}"
      ],
      "execution_count": 117,
      "outputs": []
    },
    {
      "cell_type": "code",
      "metadata": {
        "id": "SnBcnb7ROsH_",
        "colab_type": "code",
        "colab": {
          "base_uri": "https://localhost:8080/",
          "height": 136
        },
        "outputId": "92d3b64c-d0ad-40bb-bd75-d4befbf204f6"
      },
      "source": [
        "from xgboost import XGBClassifier\n",
        "model = XGBClassifier()\n",
        "model.fit(x_train, y_train)\n",
        "print(model)\n",
        "# make predictions for test data\n",
        "y_preds = model.predict(x_test)"
      ],
      "execution_count": 119,
      "outputs": [
        {
          "output_type": "stream",
          "text": [
            "XGBClassifier(base_score=0.5, booster='gbtree', colsample_bylevel=1,\n",
            "              colsample_bynode=1, colsample_bytree=1, gamma=0,\n",
            "              learning_rate=0.1, max_delta_step=0, max_depth=3,\n",
            "              min_child_weight=1, missing=None, n_estimators=100, n_jobs=1,\n",
            "              nthread=None, objective='binary:logistic', random_state=0,\n",
            "              reg_alpha=0, reg_lambda=1, scale_pos_weight=1, seed=None,\n",
            "              silent=None, subsample=1, verbosity=1)\n"
          ],
          "name": "stdout"
        }
      ]
    },
    {
      "cell_type": "code",
      "metadata": {
        "id": "dS6RpWnM7kX5",
        "colab_type": "code",
        "colab": {
          "base_uri": "https://localhost:8080/",
          "height": 34
        },
        "outputId": "a5176ec9-9753-4444-bb8c-6ec54c09cee2"
      },
      "source": [
        "accuracy_score(y_test, y_preds, normalize=True)"
      ],
      "execution_count": 120,
      "outputs": [
        {
          "output_type": "execute_result",
          "data": {
            "text/plain": [
              "0.5180722891566265"
            ]
          },
          "metadata": {
            "tags": []
          },
          "execution_count": 120
        }
      ]
    },
    {
      "cell_type": "code",
      "metadata": {
        "id": "2zsw6SX9OsIB",
        "colab_type": "code",
        "colab": {
          "base_uri": "https://localhost:8080/",
          "height": 899
        },
        "outputId": "5945dc71-2d43-4de3-8285-6c7b0a1f16d6"
      },
      "source": [
        "plot_preds(y_test, y_preds, 'XGBoost')"
      ],
      "execution_count": 121,
      "outputs": [
        {
          "output_type": "display_data",
          "data": {
            "image/png": "[encoded data removed]",
            "text/plain": [
              "<Figure size 1440x1080 with 1 Axes>"
            ]
          },
          "metadata": {
            "tags": []
          }
        }
      ]
    },
    {
      "cell_type": "markdown",
      "metadata": {
        "id": "Qb95oqWe7zZq",
        "colab_type": "text"
      },
      "source": [
        "# Feature importance"
      ]
    },
    {
      "cell_type": "markdown",
      "metadata": {
        "id": "Ppmx5LZU8BiI",
        "colab_type": "text"
      },
      "source": [
        "Which feature had the highest impact on our **\"yes\"** values. "
      ]
    },
    {
      "cell_type": "code",
      "metadata": {
        "id": "KCPLcqX6OsIF",
        "colab_type": "code",
        "colab": {
          "base_uri": "https://localhost:8080/",
          "height": 318
        },
        "outputId": "ddf6f85b-29f9-41d3-c86b-836d27c5700e"
      },
      "source": [
        "from xgboost import XGBClassifier, plot_importance\n",
        "plot_importance(model)"
      ],
      "execution_count": 122,
      "outputs": [
        {
          "output_type": "execute_result",
          "data": {
            "text/plain": [
              "<matplotlib.axes._subplots.AxesSubplot at 0x7fa4f98b6470>"
            ]
          },
          "metadata": {
            "tags": []
          },
          "execution_count": 122
        },
        {
          "output_type": "display_data",
          "data": {
            "image/png": "[encoded data removed]",
            "text/plain": [
              "<Figure size 432x288 with 1 Axes>"
            ]
          },
          "metadata": {
            "tags": []
          }
        }
      ]
    },
    {
      "cell_type": "code",
      "metadata": {
        "id": "eodRa-vGOsIH",
        "colab_type": "code",
        "colab": {}
      },
      "source": [
        "Discussion about usage of A/B testing, k-fold and Machine learning approach are discused on the paper.\n",
        " "
      ],
      "execution_count": null,
      "outputs": []
    },
    {
      "cell_type": "markdown",
      "metadata": {
        "id": "OYq1I-Kr9shu",
        "colab_type": "text"
      },
      "source": [
        "# Cheers!!!"
      ]
    }
  ]
}